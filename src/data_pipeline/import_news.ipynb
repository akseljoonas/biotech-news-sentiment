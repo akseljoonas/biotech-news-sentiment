{
 "cells": [
  {
   "cell_type": "code",
   "execution_count": 1,
   "metadata": {},
   "outputs": [],
   "source": [
    "from datetime import datetime\n",
    "\n",
    "import feedparser\n",
    "import pandas as pd\n",
    "import yaml\n",
    "from bs4 import BeautifulSoup"
   ]
  },
  {
   "cell_type": "code",
   "execution_count": 2,
   "metadata": {},
   "outputs": [],
   "source": [
    "def load_config(sector):\n",
    "    config_file = f\"{sector}.yaml\"\n",
    "    with open(config_file, \"r\") as file:\n",
    "        rss_dict = yaml.safe_load(file)\n",
    "\n",
    "    return rss_dict"
   ]
  },
  {
   "cell_type": "code",
   "execution_count": 3,
   "metadata": {},
   "outputs": [],
   "source": [
    "def clean_text(raw_html):\n",
    "    cleantext = BeautifulSoup(raw_html, \"lxml\").text\n",
    "    return cleantext\n",
    "\n",
    "\n",
    "def fetch_news(rss_dict):\n",
    "    cols = [\n",
    "        \"ticker\",\n",
    "        \"title\",\n",
    "        \"summary\",\n",
    "        \"published_gmt\",\n",
    "        \"description\",\n",
    "        \"link\",\n",
    "        \"language\",\n",
    "        \"topic\",\n",
    "        \"sector\",\n",
    "    ]\n",
    "    all_news_items = []\n",
    "\n",
    "    current_time = datetime.now()\n",
    "    print(f\"Starting new iteration at {current_time}\")\n",
    "\n",
    "    for key, rss_url in rss_dict.items():\n",
    "        # print(f\"Fetching news for ticker: {key}\")\n",
    "        feed = feedparser.parse(rss_url)\n",
    "\n",
    "        for newsitem in feed[\"items\"]:\n",
    "            last_subject = (\n",
    "                newsitem[\"tags\"][-1][\"term\"]\n",
    "                if \"tags\" in newsitem and newsitem[\"tags\"]\n",
    "                else None\n",
    "            )\n",
    "            all_news_items.append(\n",
    "                {\n",
    "                    \"ticker\": key,\n",
    "                    \"title\": newsitem[\"title\"],\n",
    "                    \"summary\": clean_text(newsitem[\"summary\"]),\n",
    "                    \"published_gmt\": newsitem[\"published\"],\n",
    "                    \"description\": clean_text(newsitem[\"description\"]),\n",
    "                    \"link\": newsitem[\"link\"],\n",
    "                    \"language\": newsitem.get(\n",
    "                        \"dc_language\", None\n",
    "                    ),  # Extracted language from the provided feed\n",
    "                    \"topic\": last_subject,\n",
    "                }\n",
    "            )\n",
    "\n",
    "    return pd.DataFrame(all_news_items, columns=cols)"
   ]
  },
  {
   "cell_type": "code",
   "execution_count": 4,
   "metadata": {},
   "outputs": [
    {
     "name": "stdout",
     "output_type": "stream",
     "text": [
      "Fetching news for sector: biotech\n",
      "{'FBIO': 'https://www.globenewswire.com/rssfeed/organization/Zl-bHuvT3qJD7_c31F0d1w==', 'KA': 'https://www.globenewswire.com/rssfeed/organization/GRExm2xRyMBOVUvowi5oSA==', 'QGEN': 'https://www.globenewswire.com/rssfeed/organization/ObYQ7Np8dbpjWSsUartQVA==', 'DYAI': 'https://www.globenewswire.com/rssfeed/organization/PZT53qVKTCNqeqiVtTKL3w==', 'JSPR': 'https://www.globenewswire.com/rssfeed/organization/IEZm99vVrVVCb3DyKCTR5w==', 'ANAB': 'https://www.globenewswire.com/rssfeed/organization/Ji5S9zuTCO02Ajd_V5I3Rw==', 'ECOR': 'https://www.globenewswire.com/rssfeed/organization/Uxa3Kjdv9pQ0hbvyFX0QiA==', 'ELOX': 'https://www.globenewswire.com/rssfeed/organization/zb7Vep8ReOhaPqqjjS7uNQ==', 'MDWD': 'https://www.globenewswire.com/rssfeed/organization/JNTLkaPBI2Jd7IIL2hLwJg==', 'EYEN': 'https://www.globenewswire.com/rssfeed/organization/r08K-OyBIlTfBByhoeiNHw==', 'PYPD': 'https://www.globenewswire.com/rssfeed/organization/jgple-INo8rwkSygwj0BYg==', 'SCLX': 'https://www.globenewswire.com/rssfeed/organization/f9T_vLhPQJlOP5oF7iIaLw==', 'ORIC': 'https://www.globenewswire.com/rssfeed/organization/c5FdjyjgJgFzLB2vt6WrbQ==', 'TTOO': 'https://www.globenewswire.com/rssfeed/organization/MDZy0ANkrIuNuU8AIQcoww==', 'ADXN': 'https://www.globenewswire.com/rssfeed/organization/iloptECJw7w0xOOOY4deug==', 'SPRY': 'https://www.globenewswire.com/rssfeed/organization/f8_mhqXVlN3nPJ4bb-LMxg==', 'IMNN': 'https://www.globenewswire.com/rssfeed/organization/1BpHAI3HV8kfOqAFbpwrzw==', 'ADTX': 'https://www.globenewswire.com/rssfeed/organization/9pBj1P8ziBJ04e1RRcfXQA==', 'OCUP': 'https://www.globenewswire.com/rssfeed/organization/z6zfAII6qABCc9Fd5tYioA==', 'ARQT': 'https://www.globenewswire.com/rssfeed/organization/1cA_MwML6Ak942ILXoveRA==', 'IMCR': 'https://www.globenewswire.com/rssfeed/organization/Vya7pFF0emuXWiY2ShWCqQ==', 'VIR': 'https://www.globenewswire.com/rssfeed/organization/93PSxzhxBXBVDFs_nRwkGQ==', 'DBVT': 'https://www.globenewswire.com/rssfeed/organization/bJpWm3VLgF8NFsLrEYUfRQ==', 'ICCC': 'https://www.globenewswire.com/rssfeed/organization/1SofLy2Yq8y7QbKMNrlEfg==', 'ONCT': 'https://www.globenewswire.com/rssfeed/organization/Zz7QeP_HBvQYBXr101mYFA==', 'ALVO': 'https://www.globenewswire.com/rssfeed/organization/TziYItMJC78FQ087TXZRqA==', 'EVAX': 'https://www.globenewswire.com/rssfeed/organization/ulQdbuxqqx52zqbc15UG9Q==', 'CHRS': 'https://www.globenewswire.com/rssfeed/organization/XgmcXQKhI4er2TIaySqt0A==', 'MYNZ': 'https://www.globenewswire.com/rssfeed/organization/yVXPG-j6Zoq3yzBQU0puIg==', 'SCPH': 'https://www.globenewswire.com/rssfeed/organization/h0zebsNZsOqhFhUABhuSDA==', 'MDAI': 'https://www.globenewswire.com/rssfeed/organization/qXyDh4A384_6ELXJXYo9Mw==', 'BIOR': 'https://www.globenewswire.com/rssfeed/organization/a3rW7YdtTXG-MZOajUfj0g==', 'MLYS': 'https://www.globenewswire.com/rssfeed/organization/mwUgVMS8ANUqoiqBbnCcMg==', 'LGVN': 'https://www.globenewswire.com/rssfeed/organization/N4jmKuvSU7xP99BFQEiutA==', 'BMRA': 'https://www.globenewswire.com/rssfeed/organization/Yaz3uhzGBuAVtlRURo71Yw==', 'KRON': 'https://www.globenewswire.com/rssfeed/organization/XHvdwdru29NFQLexXXaf7w==', 'CDTX': 'https://www.globenewswire.com/rssfeed/organization/BvS7rPl1bw2FVtKDAKEHvA==', 'NTLA': 'https://www.globenewswire.com/rssfeed/organization/PDLyK9qqkjGIDeZLCUntZg==', 'TLSA': 'https://www.globenewswire.com/rssfeed/organization/Ip3_JN7lmgfN25ZnsRyASw==', 'IMRX': 'https://www.globenewswire.com/rssfeed/organization/0wZBVVXWV_PZyPsL0AzeeA==', 'OPGN': 'https://www.globenewswire.com/rssfeed/organization/894_Z7cjwvtDwHyGNUwXzA==', 'TGTX': 'https://www.globenewswire.com/rssfeed/organization/C-XSequykQUA0DS_yHvZKQ==', 'ANVS': 'https://www.globenewswire.com/rssfeed/organization/4jd7uSIbbLI3NHJVrOzoBQ==', 'ADAG': 'https://www.globenewswire.com/rssfeed/organization/6SyYl4ma7EVf3hmyyWLQGQ==', 'INAB': 'https://www.globenewswire.com/rssfeed/organization/-v7wPyhXfwco_yoverV_zg==', 'PCRX': 'https://www.globenewswire.com/rssfeed/organization/dwmTf9H5SH4UovJvPi5www==', 'BCAB': 'https://www.globenewswire.com/rssfeed/organization/kBDH4lofQlO0HI-D4uZbxg==', 'WINT': 'https://www.globenewswire.com/rssfeed/organization/4QDrPNbFWqG-4Jn3RBxd2w==', 'KBLB': 'https://www.globenewswire.com/rssfeed/organization/WP57v5pQBcjo7Q2x6iDrbg==', 'PEPG': 'https://www.globenewswire.com/rssfeed/organization/JEY6aN4sOThBOk-QGXBf-A==', 'NSPR': 'https://www.globenewswire.com/rssfeed/organization/T27MiYy1Srazj5uwIMdewQ==', 'CERT': 'https://www.globenewswire.com/rssfeed/organization/-KEeVk-HlcVfoO3sQwBYCg==', 'AKYA': 'https://www.globenewswire.com/rssfeed/organization/PGW0P_DQmH9ge7z2GWOPCQ==', 'VALN': 'https://www.globenewswire.com/rssfeed/organization/qA5S576q3JQfbXYt0PyGHw==', 'MLTX': 'https://www.globenewswire.com/rssfeed/organization/eSp0yU0XyhRZUznDrnCkvw==', 'RENB': 'https://www.globenewswire.com/rssfeed/organization/Yoj7LuTrY1gHC8gfnhHeQg==', 'RVVTF': 'https://www.globenewswire.com/rssfeed/organization/geKjtfo4kHtm0cgPvRUjAA==', 'YTEN': 'https://www.globenewswire.com/rssfeed/organization/_eyJo4GoZ6-OCcyM4rhbTw==', 'RZLT': 'https://www.globenewswire.com/rssfeed/organization/bSYCGpdUqWjLASMA82ghGg==', 'ELTX': 'https://www.globenewswire.com/rssfeed/organization/VzpcI8zQ6Gc36HcDRT2Ogw==', 'NKGN': 'https://www.globenewswire.com/rssfeed/organization/jtkcTvGTPO9m6U_W4UZo4w==', 'CCCC': 'https://www.globenewswire.com/rssfeed/organization/azqxGVGh7k91O5D-8wkUmg==', 'BCDA': 'https://www.globenewswire.com/rssfeed/organization/TcKgsVXgRxor2F4ms2yO2w==', 'MNOV': 'https://www.globenewswire.com/rssfeed/organization/tUFjfJAO5u8QjYP4SFWPHQ==', 'CAPR': 'https://www.globenewswire.com/rssfeed/organization/rPw8DAefZ5MgNHJ6jMy48Q==', 'OVID': 'https://www.globenewswire.com/rssfeed/organization/VoSE52dSGIOW8D_mB3gZIg==', 'TSHA': 'https://www.globenewswire.com/rssfeed/organization/iuYIhGvqZyqPDRwcs5CEWw==', 'BTAI': 'https://www.globenewswire.com/rssfeed/organization/XlgVqHnPS7jgw2aJsEpwXA==', 'AKRO': 'https://www.globenewswire.com/rssfeed/organization/MuMcbxbZ2Wz0karBESqvsg==', 'OCGN': 'https://www.globenewswire.com/rssfeed/organization/Ujurm4W8JRhLd0TVF95AWg==', 'OCS': 'https://www.globenewswire.com/rssfeed/organization/I5veFsBbxXhrFXHXAP0xpg==', 'ANNX': 'https://www.globenewswire.com/rssfeed/organization/41pegHqbDLKiW8jO_9t3Mg==', 'MYCOF': 'https://www.globenewswire.com/rssfeed/organization/db-5JovC73reug3tbfuA3w==', 'MDXH': 'https://www.globenewswire.com/rssfeed/organization/gkFjmVd1Y-BFGLHMOFooRg==', 'VXRT': 'https://www.globenewswire.com/rssfeed/organization/uFB70cPlrYZMwj227PCL7w==', 'IMMX': 'https://www.globenewswire.com/rssfeed/organization/ZF9eAkkih-QqiwUu6oMcoA==', 'GTHX': 'https://www.globenewswire.com/rssfeed/organization/fV-m6ker0vo_4Rb3kwt96w==', 'INMB': 'https://www.globenewswire.com/rssfeed/organization/R5Bu_CCGNxU1c4j6zKGzpA==', 'HUMA': 'https://www.globenewswire.com/rssfeed/organization/JIAsSEpb9XrXEjrVKvSv6g==', 'IOVA': 'https://www.globenewswire.com/rssfeed/organization/LRXCZ6mew69UXTfI52mJBw==', 'CRSP': 'https://www.globenewswire.com/rssfeed/organization/yZonBXkVeWlY2q7tH3QlaQ==', 'TOVX': 'https://www.globenewswire.com/rssfeed/organization/GC2umGzweBFMrpAPwirVmA==', 'EDIT': 'https://www.globenewswire.com/rssfeed/organization/JzguH19I79BEcmVhiJ0bTA==', 'PCVX': 'https://www.globenewswire.com/rssfeed/organization/U5mTq2sNNPxlQmkUxjmfnQ==', 'RNAZ': 'https://www.globenewswire.com/rssfeed/organization/GCX6rkKaxxq33CxDX2yoVg==', 'NOTV': 'https://www.globenewswire.com/rssfeed/organization/-6c6dmnScW1KSOunGNjBjw==', 'CRBP': 'https://www.globenewswire.com/rssfeed/organization/EqKgVpnzVTRAAi5xJ3i9tA==', 'IMMP': 'https://www.globenewswire.com/rssfeed/organization/n3amvjC4WqtCGlINaFcCvA==', 'ENTX': 'https://www.globenewswire.com/rssfeed/organization/_vSMt3fZ2M1cE4lo4tr_xw==', 'BNOX': 'https://www.globenewswire.com/rssfeed/organization/j8VEmY5tKbbDoh5fNdoGxA==', 'BNTX': 'https://www.globenewswire.com/rssfeed/organization/RvLcCQa5C3_vtIef4yS6tg==', 'NEXI': 'https://www.globenewswire.com/rssfeed/organization/HlFiu2KLNID0YZLR_T9JYw==', 'CADL': 'https://www.globenewswire.com/rssfeed/organization/DWQzQbz_VRAVw6VHAzxVqw==', 'CELU': 'https://www.globenewswire.com/rssfeed/organization/wUb7dsTSkvVR70o3firnIg==', 'RAPT': 'https://www.globenewswire.com/rssfeed/organization/aeFMkDVUk-NPgxywPQEvVw==', 'CKPT': 'https://www.globenewswire.com/rssfeed/organization/EAbvfZQ3IQ53HaGjwhQ1ug==', 'XFOR': 'https://www.globenewswire.com/rssfeed/organization/f_g5WNezHlRTlEXKzTM_wQ==', 'PHGE': 'https://www.globenewswire.com/rssfeed/organization/gsvvWzeGEJo3KpSUIOmcXQ==', 'HOOK': 'https://www.globenewswire.com/rssfeed/organization/oOBxPcGsR2KUMQ4_kMTp0A==', 'XXII': 'https://www.globenewswire.com/rssfeed/organization/UVZyTqvMOYnP8fs-uSoYZw==', 'CDMO': 'https://www.globenewswire.com/rssfeed/organization/shuYTvpYZGqJq4fmQlIEkw==', 'NXTC': 'https://www.globenewswire.com/rssfeed/organization/LKePtPfkIlvE6vIsjSjL1g==', 'ETNB': 'https://www.globenewswire.com/rssfeed/organization/4fb859VSlf9yg2oeougbZw==', 'NKTX': 'https://www.globenewswire.com/rssfeed/organization/W2pdWa4V8Ch156m7YDGQqQ==', 'GLUE': 'https://www.globenewswire.com/rssfeed/organization/O9RqmuWeQPJt5vRaANgDVg==', 'EVLO': 'https://www.globenewswire.com/rssfeed/organization/MTlwcN8bVv5oNR99D1jxog==', 'ACIU': 'https://www.globenewswire.com/rssfeed/organization/BMgMRwL1Kpqb7I3tThdRGQ==', 'GMAB': 'https://www.globenewswire.com/rssfeed/organization/8oYYUC1kuxVIiyGoqvHIGA==', 'PLRX': 'https://www.globenewswire.com/rssfeed/organization/hEhY5BukFL_Wy3JT4uWajA==', 'STRO': 'https://www.globenewswire.com/rssfeed/organization/T1t__hk8L0IxvASiDR6EVg==', 'SEER': 'https://www.globenewswire.com/rssfeed/organization/ZxcV0gyx2OMFDmPuPx65BQ==', 'AEON': 'https://www.globenewswire.com/rssfeed/organization/68ouC-Wlo03wbaJ3toMevw==', 'CTKB': 'https://www.globenewswire.com/rssfeed/organization/MWHt0wnpmHwTKhL0Nlr0dA==', 'GRFS': 'https://www.globenewswire.com/rssfeed/organization/1H9L_m65FnHuW4AoGG0U0w==', 'AMRN': 'https://www.globenewswire.com/rssfeed/organization/HVzzvjESnB9RdCk2gFbcuQ==', 'BIIB': 'https://www.globenewswire.com/rssfeed/organization/hNQxyS-FvexsgfoXWT62ZA==', 'BIVI': 'https://www.globenewswire.com/rssfeed/organization/31kmOEIbEpdnbHJntW2w9A==', 'CTMX': 'https://www.globenewswire.com/rssfeed/organization/CZ8S-iYgym7mlLB0beS8fg==', 'SGMT': 'https://www.globenewswire.com/rssfeed/organization/zJE3pZgb1wNFJ1L_Ua_PBQ==', 'BICX': 'https://www.globenewswire.com/rssfeed/organization/pBdsAx5olV4dgTQVaFoxoA==', 'STTK': 'https://www.globenewswire.com/rssfeed/organization/1b1YBlIcP9TJ1Q5g9qia5w==', 'XBIT': 'https://www.globenewswire.com/rssfeed/organization/eVmqnr1fQLe9jvJTeaCJHA==', 'VINC': 'https://www.globenewswire.com/rssfeed/organization/q0PWiXR2bKmOGNLip5WpBg==', 'APTO': 'https://www.globenewswire.com/rssfeed/organization/eRhTkpf5xXW093FmV9n7Hg==', 'FGEN': 'https://www.globenewswire.com/rssfeed/organization/Z-UtQEAVYiwSR70fIml17w==', 'GLPG': 'https://www.globenewswire.com/rssfeed/organization/V4fM7qXatKV4iNIy9EstnQ==', 'TCRX': 'https://www.globenewswire.com/rssfeed/organization/XBPv3dUeTKk3hbavz4jFUg==', 'ADPT': 'https://www.globenewswire.com/rssfeed/organization/C4fvqiqdQEuWxyUOG3joEQ==', 'SWTX': 'https://www.globenewswire.com/rssfeed/organization/4uLhUxLgqviseMH5UWmblA=='}\n"
     ]
    }
   ],
   "source": [
    "sector = \"biotech\"\n",
    "print(f\"Fetching news for sector: {sector}\")\n",
    "\n",
    "rss_dict = load_config(sector)\n",
    "print(rss_dict)"
   ]
  },
  {
   "cell_type": "code",
   "execution_count": 5,
   "metadata": {},
   "outputs": [
    {
     "name": "stdout",
     "output_type": "stream",
     "text": [
      "Starting new iteration at 2024-11-10 11:13:42.997470\n"
     ]
    },
    {
     "name": "stderr",
     "output_type": "stream",
     "text": [
      "/var/folders/j4/cvc05xl96vd2tzttrm50lzb00000gn/T/ipykernel_3190/902843614.py:2: MarkupResemblesLocatorWarning: The input looks more like a filename than markup. You may want to open this file and pass the filehandle into Beautiful Soup.\n",
      "  cleantext = BeautifulSoup(raw_html, \"lxml\").text\n"
     ]
    },
    {
     "data": {
      "text/html": [
       "<div>\n",
       "<style scoped>\n",
       "    .dataframe tbody tr th:only-of-type {\n",
       "        vertical-align: middle;\n",
       "    }\n",
       "\n",
       "    .dataframe tbody tr th {\n",
       "        vertical-align: top;\n",
       "    }\n",
       "\n",
       "    .dataframe thead th {\n",
       "        text-align: right;\n",
       "    }\n",
       "</style>\n",
       "<table border=\"1\" class=\"dataframe\">\n",
       "  <thead>\n",
       "    <tr style=\"text-align: right;\">\n",
       "      <th></th>\n",
       "      <th>sector</th>\n",
       "    </tr>\n",
       "  </thead>\n",
       "  <tbody>\n",
       "    <tr>\n",
       "      <th>count</th>\n",
       "      <td>0.0</td>\n",
       "    </tr>\n",
       "    <tr>\n",
       "      <th>mean</th>\n",
       "      <td>NaN</td>\n",
       "    </tr>\n",
       "    <tr>\n",
       "      <th>std</th>\n",
       "      <td>NaN</td>\n",
       "    </tr>\n",
       "    <tr>\n",
       "      <th>min</th>\n",
       "      <td>NaN</td>\n",
       "    </tr>\n",
       "    <tr>\n",
       "      <th>25%</th>\n",
       "      <td>NaN</td>\n",
       "    </tr>\n",
       "    <tr>\n",
       "      <th>50%</th>\n",
       "      <td>NaN</td>\n",
       "    </tr>\n",
       "    <tr>\n",
       "      <th>75%</th>\n",
       "      <td>NaN</td>\n",
       "    </tr>\n",
       "    <tr>\n",
       "      <th>max</th>\n",
       "      <td>NaN</td>\n",
       "    </tr>\n",
       "  </tbody>\n",
       "</table>\n",
       "</div>"
      ],
      "text/plain": [
       "       sector\n",
       "count     0.0\n",
       "mean      NaN\n",
       "std       NaN\n",
       "min       NaN\n",
       "25%       NaN\n",
       "50%       NaN\n",
       "75%       NaN\n",
       "max       NaN"
      ]
     },
     "execution_count": 5,
     "metadata": {},
     "output_type": "execute_result"
    }
   ],
   "source": [
    "news_df = fetch_news(rss_dict)\n",
    "news_df.describe()"
   ]
  },
  {
   "cell_type": "code",
   "execution_count": 6,
   "metadata": {},
   "outputs": [
    {
     "data": {
      "text/html": [
       "<div>\n",
       "<style scoped>\n",
       "    .dataframe tbody tr th:only-of-type {\n",
       "        vertical-align: middle;\n",
       "    }\n",
       "\n",
       "    .dataframe tbody tr th {\n",
       "        vertical-align: top;\n",
       "    }\n",
       "\n",
       "    .dataframe thead th {\n",
       "        text-align: right;\n",
       "    }\n",
       "</style>\n",
       "<table border=\"1\" class=\"dataframe\">\n",
       "  <thead>\n",
       "    <tr style=\"text-align: right;\">\n",
       "      <th></th>\n",
       "      <th>ticker</th>\n",
       "      <th>title</th>\n",
       "      <th>summary</th>\n",
       "      <th>published_gmt</th>\n",
       "      <th>description</th>\n",
       "      <th>link</th>\n",
       "      <th>language</th>\n",
       "      <th>topic</th>\n",
       "      <th>sector</th>\n",
       "    </tr>\n",
       "  </thead>\n",
       "  <tbody>\n",
       "    <tr>\n",
       "      <th>0</th>\n",
       "      <td>FBIO</td>\n",
       "      <td>Fortress Biotech to Participate in October 202...</td>\n",
       "      <td>MIAMI, Sept.  26, 2024  (GLOBE NEWSWIRE) -- Fo...</td>\n",
       "      <td>2024-09-26 12:30:00+00:00</td>\n",
       "      <td>MIAMI, Sept.  26, 2024  (GLOBE NEWSWIRE) -- Fo...</td>\n",
       "      <td>https://www.globenewswire.com/news-release/202...</td>\n",
       "      <td>None</td>\n",
       "      <td>Calendar of Events</td>\n",
       "      <td>NaN</td>\n",
       "    </tr>\n",
       "    <tr>\n",
       "      <th>1</th>\n",
       "      <td>FBIO</td>\n",
       "      <td>Fortress Biotech Announces Pricing of $8 Milli...</td>\n",
       "      <td>MIAMI, Sept.  20, 2024  (GLOBE NEWSWIRE) -- Fo...</td>\n",
       "      <td>2024-09-20 12:30:00+00:00</td>\n",
       "      <td>MIAMI, Sept.  20, 2024  (GLOBE NEWSWIRE) -- Fo...</td>\n",
       "      <td>https://www.globenewswire.com/news-release/202...</td>\n",
       "      <td>None</td>\n",
       "      <td>Financing Agreements</td>\n",
       "      <td>NaN</td>\n",
       "    </tr>\n",
       "    <tr>\n",
       "      <th>2</th>\n",
       "      <td>FBIO</td>\n",
       "      <td>Fortress Biotech to Present at the H.C. Wainwr...</td>\n",
       "      <td>MIAMI, Sept.  04, 2024  (GLOBE NEWSWIRE) -- Fo...</td>\n",
       "      <td>2024-09-04 12:30:00+00:00</td>\n",
       "      <td>MIAMI, Sept.  04, 2024  (GLOBE NEWSWIRE) -- Fo...</td>\n",
       "      <td>https://www.globenewswire.com/news-release/202...</td>\n",
       "      <td>None</td>\n",
       "      <td>Calendar of Events</td>\n",
       "      <td>NaN</td>\n",
       "    </tr>\n",
       "    <tr>\n",
       "      <th>3</th>\n",
       "      <td>FBIO</td>\n",
       "      <td>Fortress Biotech Reports Second Quarter 2024 F...</td>\n",
       "      <td>PDUFA goal date of November 4, 2024 for DFD-29...</td>\n",
       "      <td>2024-08-13 20:05:00+00:00</td>\n",
       "      <td>PDUFA goal date of November 4, 2024 for DFD-29...</td>\n",
       "      <td>https://www.globenewswire.com/news-release/202...</td>\n",
       "      <td>None</td>\n",
       "      <td>Earnings Releases and Operating Results</td>\n",
       "      <td>NaN</td>\n",
       "    </tr>\n",
       "    <tr>\n",
       "      <th>4</th>\n",
       "      <td>FBIO</td>\n",
       "      <td>Fortress Biotech Reduces Total Debt and Enters...</td>\n",
       "      <td>Extends maturity of long-term debt as Fortress...</td>\n",
       "      <td>2024-07-25 12:30:00+00:00</td>\n",
       "      <td>Extends maturity of long-term debt as Fortress...</td>\n",
       "      <td>https://www.globenewswire.com/news-release/202...</td>\n",
       "      <td>None</td>\n",
       "      <td>Major shareholder announcements</td>\n",
       "      <td>NaN</td>\n",
       "    </tr>\n",
       "  </tbody>\n",
       "</table>\n",
       "</div>"
      ],
      "text/plain": [
       "  ticker                                              title  \\\n",
       "0   FBIO  Fortress Biotech to Participate in October 202...   \n",
       "1   FBIO  Fortress Biotech Announces Pricing of $8 Milli...   \n",
       "2   FBIO  Fortress Biotech to Present at the H.C. Wainwr...   \n",
       "3   FBIO  Fortress Biotech Reports Second Quarter 2024 F...   \n",
       "4   FBIO  Fortress Biotech Reduces Total Debt and Enters...   \n",
       "\n",
       "                                             summary  \\\n",
       "0  MIAMI, Sept.  26, 2024  (GLOBE NEWSWIRE) -- Fo...   \n",
       "1  MIAMI, Sept.  20, 2024  (GLOBE NEWSWIRE) -- Fo...   \n",
       "2  MIAMI, Sept.  04, 2024  (GLOBE NEWSWIRE) -- Fo...   \n",
       "3  PDUFA goal date of November 4, 2024 for DFD-29...   \n",
       "4  Extends maturity of long-term debt as Fortress...   \n",
       "\n",
       "              published_gmt  \\\n",
       "0 2024-09-26 12:30:00+00:00   \n",
       "1 2024-09-20 12:30:00+00:00   \n",
       "2 2024-09-04 12:30:00+00:00   \n",
       "3 2024-08-13 20:05:00+00:00   \n",
       "4 2024-07-25 12:30:00+00:00   \n",
       "\n",
       "                                         description  \\\n",
       "0  MIAMI, Sept.  26, 2024  (GLOBE NEWSWIRE) -- Fo...   \n",
       "1  MIAMI, Sept.  20, 2024  (GLOBE NEWSWIRE) -- Fo...   \n",
       "2  MIAMI, Sept.  04, 2024  (GLOBE NEWSWIRE) -- Fo...   \n",
       "3  PDUFA goal date of November 4, 2024 for DFD-29...   \n",
       "4  Extends maturity of long-term debt as Fortress...   \n",
       "\n",
       "                                                link language  \\\n",
       "0  https://www.globenewswire.com/news-release/202...     None   \n",
       "1  https://www.globenewswire.com/news-release/202...     None   \n",
       "2  https://www.globenewswire.com/news-release/202...     None   \n",
       "3  https://www.globenewswire.com/news-release/202...     None   \n",
       "4  https://www.globenewswire.com/news-release/202...     None   \n",
       "\n",
       "                                     topic  sector  \n",
       "0                       Calendar of Events     NaN  \n",
       "1                     Financing Agreements     NaN  \n",
       "2                       Calendar of Events     NaN  \n",
       "3  Earnings Releases and Operating Results     NaN  \n",
       "4          Major shareholder announcements     NaN  "
      ]
     },
     "execution_count": 6,
     "metadata": {},
     "output_type": "execute_result"
    }
   ],
   "source": [
    "news_df[\"published_gmt\"] = pd.to_datetime(\n",
    "    news_df[\"published_gmt\"], format=\"%a, %d %b %Y %H:%M %Z\", utc=True\n",
    ")\n",
    "# news_df = news_df.sort_values(by=\"published_gmt\", ascending=False)\n",
    "news_df.head()"
   ]
  },
  {
   "cell_type": "code",
   "execution_count": 7,
   "metadata": {},
   "outputs": [
    {
     "data": {
      "text/plain": [
       "2561"
      ]
     },
     "execution_count": 7,
     "metadata": {},
     "output_type": "execute_result"
    }
   ],
   "source": [
    "len(news_df)"
   ]
  },
  {
   "cell_type": "markdown",
   "metadata": {},
   "source": [
    "### MERGE\n"
   ]
  },
  {
   "cell_type": "code",
   "execution_count": 8,
   "metadata": {},
   "outputs": [],
   "source": [
    "old_df = pd.read_csv(\"/Users/akseljoonas/Documents/predtrade/news_data_oct.csv\")"
   ]
  },
  {
   "cell_type": "code",
   "execution_count": 9,
   "metadata": {},
   "outputs": [
    {
     "data": {
      "text/plain": [
       "3836"
      ]
     },
     "execution_count": 9,
     "metadata": {},
     "output_type": "execute_result"
    }
   ],
   "source": [
    "\n",
    "old_df.head()\n",
    "len(old_df)"
   ]
  },
  {
   "cell_type": "code",
   "execution_count": 10,
   "metadata": {},
   "outputs": [],
   "source": [
    "merged_df = pd.concat([old_df, news_df]).drop_duplicates(subset='link').reset_index(drop=True)"
   ]
  },
  {
   "cell_type": "code",
   "execution_count": 11,
   "metadata": {},
   "outputs": [
    {
     "data": {
      "text/plain": [
       "4236"
      ]
     },
     "execution_count": 11,
     "metadata": {},
     "output_type": "execute_result"
    }
   ],
   "source": [
    "len(merged_df)"
   ]
  },
  {
   "cell_type": "code",
   "execution_count": 12,
   "metadata": {},
   "outputs": [],
   "source": [
    "merged_df.to_csv(\n",
    "    \"/Users/akseljoonas/Documents/predtrade/news_data_nov.csv\", index=False\n",
    ")"
   ]
  },
  {
   "cell_type": "code",
   "execution_count": null,
   "metadata": {},
   "outputs": [],
   "source": []
  }
 ],
 "metadata": {
  "kernelspec": {
   "display_name": "predtrade",
   "language": "python",
   "name": "python3"
  },
  "language_info": {
   "codemirror_mode": {
    "name": "ipython",
    "version": 3
   },
   "file_extension": ".py",
   "mimetype": "text/x-python",
   "name": "python",
   "nbconvert_exporter": "python",
   "pygments_lexer": "ipython3",
   "version": "3.11.8"
  }
 },
 "nbformat": 4,
 "nbformat_minor": 2
}
