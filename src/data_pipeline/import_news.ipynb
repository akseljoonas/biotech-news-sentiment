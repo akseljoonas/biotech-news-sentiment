{
 "cells": [
  {
   "cell_type": "code",
   "execution_count": 1,
   "metadata": {},
   "outputs": [],
   "source": [
    "from datetime import datetime\n",
    "\n",
    "import feedparser\n",
    "import pandas as pd\n",
    "import yaml\n",
    "from bs4 import BeautifulSoup\n",
    "from dateutil import parser\n",
    "import pytz"
   ]
  },
  {
   "cell_type": "code",
   "execution_count": 7,
   "metadata": {},
   "outputs": [],
   "source": [
    "def load_config(sector):\n",
    "    config_file = f\"{sector}.yaml\"\n",
    "    with open(config_file, \"r\") as file:\n",
    "        rss_dict = yaml.safe_load(file)\n",
    "\n",
    "    return rss_dict"
   ]
  },
  {
   "cell_type": "code",
   "execution_count": 8,
   "metadata": {},
   "outputs": [],
   "source": [
    "\n",
    "def clean_text(raw_html: str) -> str:\n",
    "    cleantext = BeautifulSoup(raw_html, \"lxml\").text\n",
    "    return cleantext\n",
    "\n",
    "\n",
    "def fetch_news(rss_dict: dict) -> pd.DataFrame:\n",
    "    cols = [\n",
    "        \"ticker\",\n",
    "        \"title\",\n",
    "        \"summary\",\n",
    "        \"published_eastern\",\n",
    "        \"link\",\n",
    "        \"language\",\n",
    "        \"topic\",\n",
    "        \"keywords\"\n",
    "    ]\n",
    "    all_news_items = []\n",
    "\n",
    "    current_time = datetime.now()\n",
    "    print(f\"Starting new iteration at {current_time}\")\n",
    "\n",
    "    for key, rss_url in rss_dict.items():\n",
    "        feed = feedparser.parse(rss_url)\n",
    "\n",
    "        for newsitem in feed[\"items\"]:\n",
    "\n",
    "            last_subject = (\n",
    "                newsitem[\"tags\"][-1][\"term\"]\n",
    "                if \"tags\" in newsitem and newsitem[\"tags\"]\n",
    "                else None\n",
    "            )\n",
    "            keywords = (\n",
    "                \", \".join(newsitem.get(\"dc_keyword\", \"\").split(\", \"))\n",
    "                if \"dc_keyword\" in newsitem\n",
    "                else None\n",
    "            )\n",
    "            published_gmt = newsitem.get(\"published\", None)\n",
    "            if published_gmt:\n",
    "                published_dt = parser.parse(published_gmt)\n",
    "                eastern = pytz.timezone('US/Eastern')\n",
    "                published_eastern = published_dt.astimezone(eastern)\n",
    "                published_eastern = pd.to_datetime(published_eastern).strftime(\"%a, %d %b %Y %H:%M %Z\")\n",
    "            else:\n",
    "                published_eastern = None\n",
    "\n",
    "            all_news_items.append(\n",
    "                {\n",
    "                    \"ticker\": key,\n",
    "                    \"title\": newsitem.get(\"title\", None),\n",
    "                    \"summary\": clean_text(newsitem.get(\"summary\", \"\")),\n",
    "                    \"published_eastern\": published_eastern,\n",
    "                    \"link\": newsitem.get(\"link\", None),\n",
    "                    \"language\": newsitem.get(\"language\", None),\n",
    "                    \"topic\": last_subject,\n",
    "                    \"keywords\": keywords\n",
    "                }\n",
    "            )\n",
    "\n",
    "    return pd.DataFrame(all_news_items, columns=cols)\n"
   ]
  },
  {
   "cell_type": "code",
   "execution_count": null,
   "metadata": {},
   "outputs": [],
   "source": [
    "sector = \"biotech_validated\"\n",
    "print(f\"Fetching news for sector: {sector}\")\n",
    "\n",
    "rss_dict = load_config(sector)\n",
    "print(len(rss_dict))\n"
   ]
  },
  {
   "cell_type": "code",
   "execution_count": null,
   "metadata": {},
   "outputs": [],
   "source": [
    "news_df = fetch_news(rss_dict)"
   ]
  },
  {
   "cell_type": "code",
   "execution_count": null,
   "metadata": {},
   "outputs": [],
   "source": [
    "news_df.head()"
   ]
  },
  {
   "cell_type": "code",
   "execution_count": null,
   "metadata": {},
   "outputs": [],
   "source": [
    "len(news_df)"
   ]
  },
  {
   "cell_type": "markdown",
   "metadata": {},
   "source": [
    "### MERGE\n"
   ]
  },
  {
   "cell_type": "code",
   "execution_count": 13,
   "metadata": {},
   "outputs": [],
   "source": [
    "# Read the CSV file\n",
    "old_df = pd.read_csv(\n",
    "    \"/Users/akseljoonas/Documents/news-sentiment/data/raw/news_validated2.csv\"\n",
    ")"
   ]
  },
  {
   "cell_type": "code",
   "execution_count": null,
   "metadata": {},
   "outputs": [],
   "source": [
    "old_df.head()"
   ]
  },
  {
   "cell_type": "code",
   "execution_count": null,
   "metadata": {},
   "outputs": [],
   "source": [
    "# Merge the dataframes and fill missing values in 'language' and 'keywords' columns\n",
    "merged_df = (\n",
    "    pd.concat([old_df, news_df]).drop_duplicates(subset=\"link\").reset_index(drop=True)\n",
    ")\n",
    "\n",
    "# Create a boolean mask where 'language' is 'en' or NaN\n",
    "mask = (merged_df[\"language\"] == \"en\") | (merged_df[\"language\"].isna())\n",
    "\n",
    "# Apply the mask to the DataFrame\n",
    "merged_df = merged_df[mask].reset_index(drop=True)\n",
    "\n",
    "# Optional: Verify the unique values in 'language' column\n",
    "print(merged_df[\"language\"].unique())"
   ]
  },
  {
   "cell_type": "code",
   "execution_count": null,
   "metadata": {},
   "outputs": [],
   "source": [
    "len(merged_df)"
   ]
  },
  {
   "cell_type": "code",
   "execution_count": null,
   "metadata": {},
   "outputs": [],
   "source": [
    "merged_df.head()"
   ]
  },
  {
   "cell_type": "code",
   "execution_count": null,
   "metadata": {},
   "outputs": [],
   "source": [
    "merged_df.to_csv(\n",
    "    \"/Users/akseljoonas/Documents/news-sentiment/data/raw/news_validated2-prices.csv\",\n",
    "    index=False,\n",
    ")"
   ]
  }
 ],
 "metadata": {
  "kernelspec": {
   "display_name": "predtrade",
   "language": "python",
   "name": "python3"
  },
  "language_info": {
   "codemirror_mode": {
    "name": "ipython",
    "version": 3
   },
   "file_extension": ".py",
   "mimetype": "text/x-python",
   "name": "python",
   "nbconvert_exporter": "python",
   "pygments_lexer": "ipython3",
   "version": "3.11.8"
  }
 },
 "nbformat": 4,
 "nbformat_minor": 2
}
