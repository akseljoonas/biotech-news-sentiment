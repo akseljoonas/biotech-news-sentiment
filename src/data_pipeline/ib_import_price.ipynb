{
 "cells": [
  {
   "cell_type": "code",
   "execution_count": 1,
   "metadata": {},
   "outputs": [],
   "source": [
    "from datetime import datetime, time, timedelta\n",
    "\n",
    "import pandas as pd\n",
    "\n",
    "from ib_async.ib import IB\n",
    "from ib_async.contract import Stock\n",
    "from ib_async import util\n",
    "\n",
    "from tqdm.auto import tqdm"
   ]
  },
  {
   "cell_type": "markdown",
   "metadata": {},
   "source": [
    "### Connect IB\n"
   ]
  },
  {
   "cell_type": "code",
   "execution_count": 2,
   "metadata": {},
   "outputs": [
    {
     "data": {
      "text/plain": [
       "<IB connected to 127.0.0.1:4001 clientId=1>"
      ]
     },
     "execution_count": 2,
     "metadata": {},
     "output_type": "execute_result"
    }
   ],
   "source": [
    "util.startLoop()\n",
    "ib = IB()\n",
    "ib.connect(\"127.0.0.1\", 4001, clientId=1)"
   ]
  },
  {
   "cell_type": "code",
   "execution_count": 3,
   "metadata": {},
   "outputs": [],
   "source": [
    "news_df = pd.read_csv(\n",
    "    \"/Users/akseljoonas/Documents/news-sentiment/data/processed/news+prices-combined.csv\"\n",
    ")"
   ]
  },
  {
   "cell_type": "markdown",
   "metadata": {},
   "source": [
    "### Import prices"
   ]
  },
  {
   "cell_type": "code",
   "execution_count": 4,
   "metadata": {},
   "outputs": [],
   "source": [
    "def get_day_price(ticker, start_time):\n",
    "    contract = Stock(ticker, \"SMART\", \"USD\")\n",
    "    if not ib.qualifyContracts(contract):\n",
    "        return pd.DataFrame()\n",
    "\n",
    "    if isinstance(start_time, str):\n",
    "        try:\n",
    "            # Try the expected format first\n",
    "            date = datetime.strptime(start_time, \"%Y-%m-%d %H:%M:%S%z\").date()\n",
    "        except ValueError:\n",
    "            try:\n",
    "                # Try alternative format (like \"Thu, 27 Feb 2025 08:00 EST\")\n",
    "                date = datetime.strptime(start_time, \"%a, %d %b %Y %H:%M %Z\").date()\n",
    "            except ValueError:\n",
    "                # If still failing, try pandas to_datetime which is more flexible\n",
    "                date = pd.to_datetime(start_time).date()\n",
    "    else:\n",
    "        # If it's already a datetime object\n",
    "        date = start_time.date()\n",
    "\n",
    "    end_of_day = datetime.combine(date, time(23, 59, 59))\n",
    "\n",
    "    bar_data = ib.reqHistoricalData(\n",
    "        contract,\n",
    "        endDateTime=end_of_day.strftime(\"%Y%m%d %H:%M:%S\"),\n",
    "        durationStr=\"2 D\",\n",
    "        barSizeSetting=\"20 mins\",\n",
    "        whatToShow=\"TRADES\",\n",
    "        useRTH=False,\n",
    "    )\n",
    "    bar_data = util.df(bar_data)\n",
    "\n",
    "    if bar_data is None or bar_data.empty:\n",
    "        end_of_day = end_of_day + timedelta(days=1)\n",
    "        bar_data = ib.reqHistoricalData(\n",
    "            contract,\n",
    "            endDateTime=end_of_day.strftime(\"%Y%m%d %H:%M:%S\"),\n",
    "            durationStr=\"3 D\",\n",
    "            barSizeSetting=\"20 mins\",\n",
    "            whatToShow=\"TRADES\",\n",
    "            useRTH=False,\n",
    "        )\n",
    "        bar_data = util.df(bar_data)\n",
    "        if bar_data is None or bar_data.empty:\n",
    "            bar_data = pd.DataFrame()\n",
    "\n",
    "    return bar_data\n"
   ]
  },
  {
   "cell_type": "code",
   "execution_count": 5,
   "metadata": {},
   "outputs": [],
   "source": [
    "import yfinance as yf\n",
    "\n",
    "\n",
    "def get_yf_data(ticker, start_date):\n",
    "    try:\n",
    "        stock = yf.Ticker(ticker)\n",
    "    except Exception:\n",
    "        return None, None\n",
    "    info = stock.info\n",
    "    if info is None:\n",
    "        return None, None\n",
    "\n",
    "    try:\n",
    "        float_shares = info[\"sharesOutstanding\"]\n",
    "    except KeyError:\n",
    "        float_shares = None\n",
    "\n",
    "    try:\n",
    "        short_interest = info[\"dateShortInterest\"]\n",
    "    except KeyError:\n",
    "        short_interest = None\n",
    "\n",
    "    return float_shares, short_interest"
   ]
  },
  {
   "cell_type": "code",
   "execution_count": 6,
   "metadata": {},
   "outputs": [],
   "source": [
    "def get_avg_volume(ticker, start_time):\n",
    "    contract = Stock(ticker, \"SMART\", \"USD\")\n",
    "\n",
    "    bar_data = ib.reqHistoricalData(\n",
    "        contract,\n",
    "        endDateTime=start_time.strftime(\"%Y%m%d %H:%M:%S\"),\n",
    "        durationStr=\"10 D\",\n",
    "        barSizeSetting=\"1 day\",\n",
    "        whatToShow=\"TRADES\",\n",
    "        useRTH=False,\n",
    "    )\n",
    "    \n",
    "    if not bar_data:\n",
    "        return 0\n",
    "    \n",
    "    bar_data = util.df(bar_data)\n",
    "    return int(bar_data[\"volume\"].mean())"
   ]
  },
  {
   "cell_type": "code",
   "execution_count": 7,
   "metadata": {},
   "outputs": [],
   "source": [
    "def get_ibb_trend(start_time):\n",
    "    # Calculate the start of the week\n",
    "\n",
    "    contract = Stock(\"IBB\", \"SMART\", \"USD\")\n",
    "    bar_data = ib.reqHistoricalData(\n",
    "        contract,\n",
    "        endDateTime=start_time.strftime(\"%Y%m%d %H:%M:%S\"),\n",
    "        durationStr=\"10 D\",\n",
    "        barSizeSetting=\"1 day\",\n",
    "        whatToShow=\"TRADES\",\n",
    "        useRTH=False,\n",
    "    )\n",
    "    bar_data = util.df(bar_data)\n",
    "\n",
    "    if bar_data.empty:\n",
    "        return None  # No data available\n",
    "\n",
    "    # Calculate the trend\n",
    "    first_price = bar_data.iloc[0][\"close\"]\n",
    "    last_price = bar_data.iloc[-1][\"close\"]\n",
    "\n",
    "    # Return 1 if trend is positive, 0 otherwise\n",
    "    return 1 if last_price > first_price else 0"
   ]
  },
  {
   "cell_type": "code",
   "execution_count": 8,
   "metadata": {},
   "outputs": [],
   "source": [
    "def get_times(published_time):\n",
    "    tzinfo = published_time.tzinfo\n",
    "    # Define market times in EST\n",
    "    premarket_start = time(0, 0, tzinfo=tzinfo)\n",
    "    premarket_end = time(9, 30, tzinfo=tzinfo)\n",
    "    market_start = time(9, 30, tzinfo=tzinfo)\n",
    "    market_end = time(16, 0, tzinfo=tzinfo)\n",
    "    after_hours_start = time(16, 0, tzinfo=tzinfo)\n",
    "    after_hours_end = time(23, 59, 59, tzinfo=tzinfo)\n",
    "\n",
    "\n",
    "    # Get the date component of the published_time\n",
    "    prev_date = published_time - timedelta(days=1)\n",
    "    next_date = published_time + timedelta(days=1)\n",
    "\n",
    "    time_tz = published_time.time().replace(tzinfo=published_time.tzinfo)\n",
    "\n",
    "    if premarket_start <= time_tz < premarket_end:\n",
    "        start_time = pd.to_datetime(datetime.combine(prev_date, market_end))\n",
    "        end_time = pd.to_datetime(datetime.combine(published_time, market_start))\n",
    "    elif market_start <= time_tz < market_end:\n",
    "        start_time = published_time\n",
    "        end_time = published_time\n",
    "    elif after_hours_start <= time_tz < after_hours_end:\n",
    "        start_time = pd.to_datetime(datetime.combine(published_time, market_end))\n",
    "        end_time = pd.to_datetime(datetime.combine(next_date, market_start))\n",
    "    else:\n",
    "        raise ValueError(\n",
    "            f\"Invalid time period for trading hours {published_time}, time_tz {time_tz}\"\n",
    "        )\n",
    "\n",
    "    return start_time, end_time"
   ]
  },
  {
   "cell_type": "code",
   "execution_count": 9,
   "metadata": {},
   "outputs": [],
   "source": [
    "def get_market_cap(ticker: str) -> float | None:\n",
    "\n",
    "    try:\n",
    "        stock = yf.Ticker(ticker)\n",
    "        market_cap = stock.info[\"marketCap\"]\n",
    "        # Convert to millions and format with 2 decimal places\n",
    "        market_cap_millions = round(market_cap / 1_000_000, 2)\n",
    "        return market_cap_millions\n",
    "    except Exception:   \n",
    "        return None\n",
    "\n"
   ]
  },
  {
   "cell_type": "code",
   "execution_count": 10,
   "metadata": {},
   "outputs": [],
   "source": [
    "def format_bars(df, target_time, ticker):\n",
    "    target_time = pd.to_datetime(target_time)\n",
    "\n",
    "    market_start_time, market_end_time = get_times(target_time)\n",
    "\n",
    "    start_time = market_start_time - timedelta(minutes=1)\n",
    "    market_end_time = market_end_time + timedelta(hours=8)\n",
    "    end_time = target_time + timedelta(hours=8)\n",
    "\n",
    "    # day_df = df\n",
    "    # daily_volume = day_df[\"volume\"].sum()\n",
    "\n",
    "    # Get the time needed\n",
    "    df = df[(df[\"date\"] >= start_time) & (df[\"date\"] <= market_end_time)]\n",
    "\n",
    "    if df.empty:\n",
    "        return {\n",
    "            \"open\": None,\n",
    "            \"high\": None,\n",
    "            \"low\": None,\n",
    "            \"close\": None,\n",
    "            \"average\": None,\n",
    "            \"volume\": None,\n",
    "            \"trade_count\": None,\n",
    "            \"vwap\": None,\n",
    "            # \"relative_volume_daily\": None,\n",
    "            # \"relative_volume_5m\": None,\n",
    "            # \"float_rotation\": None,\n",
    "            # \"short_interest\": None,\n",
    "            # \"index_trend\": None,\n",
    "            \"price_move\": None,\n",
    "            \"labels\": None,\n",
    "            '5_labels': None,\n",
    "            'market_cap': None,\n",
    "            'buy_in_price': None,\n",
    "        }\n",
    "\n",
    "    # float_shares, short_interest = get_yf_data(ticker, start_time)\n",
    "    # avg_daily_volume = get_avg_volume(ticker, start_time)\n",
    "    # index_trend = get_ibb_trend(start_time)\n",
    "\n",
    "    first_close = df[\"close\"].iloc[0]\n",
    "    first_open = df[\"open\"].iloc[0]\n",
    "    last_close = df.loc[df[\"date\"].sub(end_time).abs().idxmin(), \"close\"]\n",
    "    max_high = df[\"high\"].max()\n",
    "    min_low = df[\"low\"].min()\n",
    "    average = df[\"average\"].mean()\n",
    "    sum_volume = df[\"volume\"].sum()\n",
    "    sum_trade_count = df[\"barCount\"].sum()\n",
    "    buy_in_price = df.loc[df[\"date\"] >= market_start_time, \"open\"].iloc[0]\n",
    "\n",
    "    # relative_volume_daily = (\n",
    "    #     daily_volume - avg_daily_volume\n",
    "    # ) / avg_daily_volume + 0.00000000000000001\n",
    "    # prev_5m_volume = day_df[\n",
    "    #     (day_df[\"date\"] >= target_time - pd.Timedelta(minutes=6))\n",
    "    #     & (day_df[\"date\"] <= start_time)\n",
    "    # ][\"volume\"].mean()\n",
    "    # relative_volume_5m = (\n",
    "    #     sum_volume - prev_5m_volume\n",
    "    # ) / prev_5m_volume + 0.00000000000000001\n",
    "    # float_rotation = daily_volume / float_shares\n",
    "\n",
    "    price_move = (last_close - first_close) / first_close\n",
    "\n",
    "    market_cap = get_market_cap(ticker)\n",
    "\n",
    "    if market_cap is None:\n",
    "        market_cap = 0\n",
    "\n",
    "    if market_cap > 10000:\n",
    "        threshold = 0.01\n",
    "    elif market_cap > 2000:\n",
    "        threshold = 0.02\n",
    "    elif market_cap > 250:\n",
    "        threshold = 0.03\n",
    "    else:\n",
    "        threshold = 0.04\n",
    "\n",
    "    if price_move > threshold:\n",
    "        labels = 2\n",
    "    elif price_move < -threshold:\n",
    "        labels = 0\n",
    "    else:\n",
    "        labels = 1\n",
    "        \n",
    "    if price_move > threshold * 2:\n",
    "        five_labels = 4\n",
    "    elif price_move > threshold:\n",
    "        five_labels = 3\n",
    "    elif price_move < -threshold * 2:\n",
    "        five_labels = 0\n",
    "    elif price_move < -threshold:\n",
    "        five_labels = 1\n",
    "    else:\n",
    "        five_labels = 2\n",
    "\n",
    "    pv = df[\"average\"] * df[\"volume\"]\n",
    "    cumulative_pv = sum(pv)\n",
    "    aggregated_vwap = cumulative_pv / sum_volume\n",
    "\n",
    "    return {\n",
    "        \"open\": first_open,\n",
    "        \"high\": max_high,\n",
    "        \"low\": min_low,\n",
    "        \"close\": last_close,\n",
    "        \"average\": average,\n",
    "        \"volume\": sum_volume,\n",
    "        \"trade_count\": sum_trade_count,\n",
    "        \"vwap\": aggregated_vwap,\n",
    "        # \"relative_volume_daily\": relative_volume_daily,\n",
    "        # \"relative_volume_5m\": relative_volume_5m,\n",
    "        # \"float_rotation\": float_rotation,\n",
    "        # \"short_interest\": short_interest,\n",
    "        # \"index_trend\": index_trend,\n",
    "        'market_cap': market_cap,\n",
    "        'buy_in_price': buy_in_price,\n",
    "        \"price_move\": price_move,\n",
    "        '5_labels': five_labels,\n",
    "        \"labels\": labels,\n",
    "    }"
   ]
  },
  {
   "cell_type": "code",
   "execution_count": 11,
   "metadata": {},
   "outputs": [],
   "source": [
    "import math\n",
    "\n",
    "\n",
    "def add_stock_data(df):\n",
    "    print(len(df))\n",
    "    for index, row in tqdm(df.iterrows(), total=len(df)):\n",
    "        if not math.isnan(row[\"labels\"]):\n",
    "            continue\n",
    "        ticker = row[\"ticker\"]\n",
    "\n",
    "        start_time = row[\"published_eastern\"]\n",
    "\n",
    "        day_df = get_day_price(ticker, start_time)\n",
    "\n",
    "        if not day_df.empty:\n",
    "            print(f\"{index} {ticker}\")\n",
    "            stock_info = format_bars(day_df, start_time, ticker)\n",
    "\n",
    "            # Update row\n",
    "            for col in stock_info.keys():\n",
    "                df.loc[index, col] = stock_info[col]\n",
    "\n",
    "        if index % 100 == 0:\n",
    "            df.to_csv(\n",
    "                \"/Users/akseljoonas/Documents/news-sentiment/data/processed/news+prices-combined.csv\",\n",
    "                index=False,\n",
    "            )\n",
    "\n",
    "    return df"
   ]
  },
  {
   "cell_type": "code",
   "execution_count": 12,
   "metadata": {},
   "outputs": [
    {
     "name": "stdout",
     "output_type": "stream",
     "text": [
      "File exists\n",
      "4872\n"
     ]
    },
    {
     "data": {
      "application/vnd.jupyter.widget-view+json": {
       "model_id": "24f5e7258edc4583ae836c00c1cc26f0",
       "version_major": 2,
       "version_minor": 0
      },
      "text/plain": [
       "  0%|          | 0/4872 [00:00<?, ?it/s]"
      ]
     },
     "metadata": {},
     "output_type": "display_data"
    },
    {
     "name": "stderr",
     "output_type": "stream",
     "text": [
      "Error 162, reqId 4: Historical Market Data Service error message:HMDS query returned no data: BICX@SMART Trades, contract: Stock(conId=350194771, symbol='BICX', exchange='SMART', primaryExchange='PINK', currency='USD', localSymbol='BICX', tradingClass='BICX')\n",
      "Error 162, reqId 5: Historical Market Data Service error message:HMDS query returned no data: BICX@SMART Trades, contract: Stock(conId=350194771, symbol='BICX', exchange='SMART', primaryExchange='PINK', currency='USD', localSymbol='BICX', tradingClass='BICX')\n",
      "Error 162, reqId 7: Historical Market Data Service error message:HMDS query returned no data: BICX@SMART Trades, contract: Stock(conId=350194771, symbol='BICX', exchange='SMART', primaryExchange='PINK', currency='USD', localSymbol='BICX', tradingClass='BICX')\n",
      "Error 162, reqId 8: Historical Market Data Service error message:HMDS query returned no data: BICX@SMART Trades, contract: Stock(conId=350194771, symbol='BICX', exchange='SMART', primaryExchange='PINK', currency='USD', localSymbol='BICX', tradingClass='BICX')\n",
      "Error 200, reqId 9: No security definition has been found for the request, contract: Stock(symbol='BNOX', exchange='SMART', currency='USD')\n",
      "Error 162, reqId 11: Historical Market Data Service error message:HMDS query returned no data: AEON@SMART Trades, contract: Stock(conId=761710743, symbol='AEON', exchange='SMART', primaryExchange='AMEX', currency='USD', localSymbol='AEON', tradingClass='AEON')\n",
      "Error 162, reqId 12: Historical Market Data Service error message:HMDS query returned no data: AEON@SMART Trades, contract: Stock(conId=761710743, symbol='AEON', exchange='SMART', primaryExchange='AMEX', currency='USD', localSymbol='AEON', tradingClass='AEON')\n",
      "Error 162, reqId 14: Historical Market Data Service error message:HMDS query returned no data: AEON@SMART Trades, contract: Stock(conId=761710743, symbol='AEON', exchange='SMART', primaryExchange='AMEX', currency='USD', localSymbol='AEON', tradingClass='AEON')\n",
      "Error 162, reqId 15: Historical Market Data Service error message:HMDS query returned no data: AEON@SMART Trades, contract: Stock(conId=761710743, symbol='AEON', exchange='SMART', primaryExchange='AMEX', currency='USD', localSymbol='AEON', tradingClass='AEON')\n",
      "Error 162, reqId 17: Historical Market Data Service error message:HMDS query returned no data: AEON@SMART Trades, contract: Stock(conId=761710743, symbol='AEON', exchange='SMART', primaryExchange='AMEX', currency='USD', localSymbol='AEON', tradingClass='AEON')\n",
      "Error 162, reqId 18: Historical Market Data Service error message:HMDS query returned no data: AEON@SMART Trades, contract: Stock(conId=761710743, symbol='AEON', exchange='SMART', primaryExchange='AMEX', currency='USD', localSymbol='AEON', tradingClass='AEON')\n",
      "Error 162, reqId 34: Historical Market Data Service error message:HMDS query returned no data: AEON@SMART Trades, contract: Stock(conId=761710743, symbol='AEON', exchange='SMART', primaryExchange='AMEX', currency='USD', localSymbol='AEON', tradingClass='AEON')\n",
      "Error 162, reqId 35: Historical Market Data Service error message:HMDS query returned no data: AEON@SMART Trades, contract: Stock(conId=761710743, symbol='AEON', exchange='SMART', primaryExchange='AMEX', currency='USD', localSymbol='AEON', tradingClass='AEON')\n",
      "Error 162, reqId 37: Historical Market Data Service error message:HMDS query returned no data: MYCOF@SMART Trades, contract: Stock(conId=557337337, symbol='MYCOF', exchange='SMART', primaryExchange='PINK', currency='USD', localSymbol='MYCOF', tradingClass='CURRENT')\n",
      "Error 162, reqId 38: Historical Market Data Service error message:HMDS query returned no data: MYCOF@SMART Trades, contract: Stock(conId=557337337, symbol='MYCOF', exchange='SMART', primaryExchange='PINK', currency='USD', localSymbol='MYCOF', tradingClass='CURRENT')\n",
      "Error 162, reqId 40: Historical Market Data Service error message:HMDS query returned no data: NKGN@SMART Trades, contract: Stock(conId=656769404, symbol='NKGN', exchange='SMART', primaryExchange='NASDAQ', currency='USD', localSymbol='NKGN', tradingClass='NMS')\n",
      "Error 162, reqId 41: Historical Market Data Service error message:HMDS query returned no data: NKGN@SMART Trades, contract: Stock(conId=656769404, symbol='NKGN', exchange='SMART', primaryExchange='NASDAQ', currency='USD', localSymbol='NKGN', tradingClass='NMS')\n",
      "Error 200, reqId 42: No security definition has been found for the request, contract: Stock(symbol='YTEN', exchange='SMART', currency='USD')\n",
      "Error 162, reqId 44: Historical Market Data Service error message:HMDS query returned no data: NKGN@SMART Trades, contract: Stock(conId=656769404, symbol='NKGN', exchange='SMART', primaryExchange='NASDAQ', currency='USD', localSymbol='NKGN', tradingClass='NMS')\n",
      "Error 162, reqId 45: Historical Market Data Service error message:HMDS query returned no data: NKGN@SMART Trades, contract: Stock(conId=656769404, symbol='NKGN', exchange='SMART', primaryExchange='NASDAQ', currency='USD', localSymbol='NKGN', tradingClass='NMS')\n",
      "Error 162, reqId 47: Historical Market Data Service error message:HMDS query returned no data: NKGN@SMART Trades, contract: Stock(conId=656769404, symbol='NKGN', exchange='SMART', primaryExchange='NASDAQ', currency='USD', localSymbol='NKGN', tradingClass='NMS')\n",
      "Error 162, reqId 48: Historical Market Data Service error message:HMDS query returned no data: NKGN@SMART Trades, contract: Stock(conId=656769404, symbol='NKGN', exchange='SMART', primaryExchange='NASDAQ', currency='USD', localSymbol='NKGN', tradingClass='NMS')\n",
      "Error 200, reqId 49: No security definition has been found for the request, contract: Stock(symbol='YTEN', exchange='SMART', currency='USD')\n",
      "Error 162, reqId 55: Historical Market Data Service error message:HMDS query returned no data: NKGN@SMART Trades, contract: Stock(conId=656769404, symbol='NKGN', exchange='SMART', primaryExchange='NASDAQ', currency='USD', localSymbol='NKGN', tradingClass='NMS')\n",
      "Error 162, reqId 56: Historical Market Data Service error message:HMDS query returned no data: NKGN@SMART Trades, contract: Stock(conId=656769404, symbol='NKGN', exchange='SMART', primaryExchange='NASDAQ', currency='USD', localSymbol='NKGN', tradingClass='NMS')\n",
      "Error 200, reqId 59: No security definition has been found for the request, contract: Stock(symbol='YTEN', exchange='SMART', currency='USD')\n",
      "Error 200, reqId 62: No security definition has been found for the request, contract: Stock(symbol='YTEN', exchange='SMART', currency='USD')\n",
      "Error 200, reqId 67: No security definition has been found for the request, contract: Stock(symbol='YTEN', exchange='SMART', currency='USD')\n",
      "Error 200, reqId 76: No security definition has been found for the request, contract: Stock(symbol='YTEN', exchange='SMART', currency='USD')\n",
      "Error 200, reqId 85: No security definition has been found for the request, contract: Stock(symbol='YTEN', exchange='SMART', currency='USD')\n",
      "Error 200, reqId 88: No security definition has been found for the request, contract: Stock(symbol='YTEN', exchange='SMART', currency='USD')\n",
      "Error 200, reqId 89: No security definition has been found for the request, contract: Stock(symbol='YTEN', exchange='SMART', currency='USD')\n",
      "Error 200, reqId 90: No security definition has been found for the request, contract: Stock(symbol='YTEN', exchange='SMART', currency='USD')\n",
      "Error 200, reqId 117: No security definition has been found for the request, contract: Stock(symbol='YTEN', exchange='SMART', currency='USD')\n",
      "Error 200, reqId 124: No security definition has been found for the request, contract: Stock(symbol='YTEN', exchange='SMART', currency='USD')\n",
      "Error 200, reqId 125: No security definition has been found for the request, contract: Stock(symbol='YTEN', exchange='SMART', currency='USD')\n",
      "Error 200, reqId 126: No security definition has been found for the request, contract: Stock(symbol='YTEN', exchange='SMART', currency='USD')\n",
      "Error 200, reqId 141: No security definition has been found for the request, contract: Stock(symbol='YTEN', exchange='SMART', currency='USD')\n",
      "Error 200, reqId 146: No security definition has been found for the request, contract: Stock(symbol='YTEN', exchange='SMART', currency='USD')\n",
      "Error 200, reqId 147: No security definition has been found for the request, contract: Stock(symbol='YTEN', exchange='SMART', currency='USD')\n",
      "Error 200, reqId 156: No security definition has been found for the request, contract: Stock(symbol='YTEN', exchange='SMART', currency='USD')\n",
      "Error 200, reqId 177: No security definition has been found for the request, contract: Stock(symbol='YTEN', exchange='SMART', currency='USD')\n",
      "Error 200, reqId 190: No security definition has been found for the request, contract: Stock(symbol='YTEN', exchange='SMART', currency='USD')\n",
      "Error 200, reqId 191: No security definition has been found for the request, contract: Stock(symbol='YTEN', exchange='SMART', currency='USD')\n",
      "Error 162, reqId 251: Historical Market Data Service error message:HMDS query returned no data: BICX@SMART Trades, contract: Stock(conId=350194771, symbol='BICX', exchange='SMART', primaryExchange='PINK', currency='USD', localSymbol='BICX', tradingClass='BICX')\n",
      "Error 200, reqId 285: No security definition has been found for the request, contract: Stock(symbol='BNOX', exchange='SMART', currency='USD')\n",
      "Error 200, reqId 286: No security definition has been found for the request, contract: Stock(symbol='BNOX', exchange='SMART', currency='USD')\n",
      "Error 200, reqId 297: No security definition has been found for the request, contract: Stock(symbol='BNOX', exchange='SMART', currency='USD')\n",
      "Error 200, reqId 298: No security definition has been found for the request, contract: Stock(symbol='BNOX', exchange='SMART', currency='USD')\n",
      "Error 200, reqId 299: No security definition has been found for the request, contract: Stock(symbol='BNOX', exchange='SMART', currency='USD')\n",
      "Error 200, reqId 300: No security definition has been found for the request, contract: Stock(symbol='BNOX', exchange='SMART', currency='USD')\n",
      "Error 200, reqId 301: No security definition has been found for the request, contract: Stock(symbol='BIOR', exchange='SMART', currency='USD')\n"
     ]
    },
    {
     "name": "stderr",
     "output_type": "stream",
     "text": [
      "Unknown contract: Stock(symbol='BNOX', exchange='SMART', currency='USD')\n"
     ]
    },
    {
     "name": "stdout",
     "output_type": "stream",
     "text": [
      "4218 BICX\n",
      "4221 ADAG\n",
      "4237 MNOV\n",
      "4244 MYCOF\n",
      "4245 STRO\n",
      "4248 NTLA\n",
      "4254 MLTX\n"
     ]
    },
    {
     "name": "stderr",
     "output_type": "stream",
     "text": [
      "Unknown contract: Stock(symbol='YTEN', exchange='SMART', currency='USD')\n",
      "Unknown contract: Stock(symbol='YTEN', exchange='SMART', currency='USD')\n"
     ]
    },
    {
     "name": "stdout",
     "output_type": "stream",
     "text": [
      "4283 MLYS\n",
      "4284 MLYS\n"
     ]
    },
    {
     "name": "stderr",
     "output_type": "stream",
     "text": [
      "Unknown contract: Stock(symbol='YTEN', exchange='SMART', currency='USD')\n"
     ]
    },
    {
     "name": "stdout",
     "output_type": "stream",
     "text": [
      "4288 BIIB\n"
     ]
    },
    {
     "name": "stderr",
     "output_type": "stream",
     "text": [
      "Unknown contract: Stock(symbol='YTEN', exchange='SMART', currency='USD')\n"
     ]
    },
    {
     "name": "stdout",
     "output_type": "stream",
     "text": [
      "4291 MYCOF\n",
      "4293 MYCOF\n"
     ]
    },
    {
     "name": "stderr",
     "output_type": "stream",
     "text": [
      "Unknown contract: Stock(symbol='YTEN', exchange='SMART', currency='USD')\n"
     ]
    },
    {
     "name": "stdout",
     "output_type": "stream",
     "text": [
      "4295 MLTX\n",
      "4302 STRO\n",
      "4303 HOOK\n",
      "4306 MYCOF\n"
     ]
    },
    {
     "name": "stderr",
     "output_type": "stream",
     "text": [
      "Unknown contract: Stock(symbol='YTEN', exchange='SMART', currency='USD')\n"
     ]
    },
    {
     "name": "stdout",
     "output_type": "stream",
     "text": [
      "4307 MYCOF\n",
      "4309 MLTX\n",
      "4310 MDXH\n",
      "4311 MDXH\n"
     ]
    },
    {
     "name": "stderr",
     "output_type": "stream",
     "text": [
      "Unknown contract: Stock(symbol='YTEN', exchange='SMART', currency='USD')\n"
     ]
    },
    {
     "name": "stdout",
     "output_type": "stream",
     "text": [
      "4312 CRSP\n"
     ]
    },
    {
     "name": "stderr",
     "output_type": "stream",
     "text": [
      "Unknown contract: Stock(symbol='YTEN', exchange='SMART', currency='USD')\n",
      "Unknown contract: Stock(symbol='YTEN', exchange='SMART', currency='USD')\n"
     ]
    },
    {
     "name": "stdout",
     "output_type": "stream",
     "text": [
      "4316 AMRN\n"
     ]
    },
    {
     "name": "stderr",
     "output_type": "stream",
     "text": [
      "Unknown contract: Stock(symbol='YTEN', exchange='SMART', currency='USD')\n"
     ]
    },
    {
     "name": "stdout",
     "output_type": "stream",
     "text": [
      "4325 MNOV\n",
      "4326 MDXH\n",
      "4327 FGEN\n",
      "4328 APTO\n",
      "4329 NKTX\n",
      "4330 VINC\n",
      "4331 MDXH\n",
      "4332 MYCOF\n",
      "4333 AKYA\n",
      "4334 AKYA\n",
      "4335 AKYA\n",
      "4336 VINC\n"
     ]
    },
    {
     "name": "stderr",
     "output_type": "stream",
     "text": [
      "Unknown contract: Stock(symbol='YTEN', exchange='SMART', currency='USD')\n"
     ]
    },
    {
     "name": "stdout",
     "output_type": "stream",
     "text": [
      "4337 ANNX\n",
      "4340 CHRS\n",
      "4342 PLRX\n"
     ]
    },
    {
     "name": "stderr",
     "output_type": "stream",
     "text": [
      "Unknown contract: Stock(symbol='YTEN', exchange='SMART', currency='USD')\n",
      "Unknown contract: Stock(symbol='YTEN', exchange='SMART', currency='USD')\n"
     ]
    },
    {
     "name": "stdout",
     "output_type": "stream",
     "text": [
      "4344 MYCOF\n"
     ]
    },
    {
     "name": "stderr",
     "output_type": "stream",
     "text": [
      "Unknown contract: Stock(symbol='YTEN', exchange='SMART', currency='USD')\n"
     ]
    },
    {
     "name": "stdout",
     "output_type": "stream",
     "text": [
      "4350 CHRS\n",
      "4351 BIVI\n",
      "4352 ARQT\n",
      "4353 MLTX\n",
      "4354 ARQT\n",
      "4355 VALN\n"
     ]
    },
    {
     "name": "stderr",
     "output_type": "stream",
     "text": [
      "Unknown contract: Stock(symbol='YTEN', exchange='SMART', currency='USD')\n"
     ]
    },
    {
     "name": "stdout",
     "output_type": "stream",
     "text": [
      "4356 VALN\n",
      "4358 VALN\n"
     ]
    },
    {
     "name": "stderr",
     "output_type": "stream",
     "text": [
      "Unknown contract: Stock(symbol='YTEN', exchange='SMART', currency='USD')\n",
      "Unknown contract: Stock(symbol='YTEN', exchange='SMART', currency='USD')\n"
     ]
    },
    {
     "name": "stdout",
     "output_type": "stream",
     "text": [
      "4359 VALN\n",
      "4363 VINC\n",
      "4364 AEON\n",
      "4365 AEON\n"
     ]
    },
    {
     "name": "stderr",
     "output_type": "stream",
     "text": [
      "Unknown contract: Stock(symbol='YTEN', exchange='SMART', currency='USD')\n"
     ]
    },
    {
     "name": "stdout",
     "output_type": "stream",
     "text": [
      "4366 AEON\n",
      "4370 AMRN\n",
      "4371 BNTX\n",
      "4372 BNTX\n",
      "4373 EVAX\n",
      "4374 EVAX\n",
      "4375 GMAB\n",
      "4376 GMAB\n",
      "4377 GMAB\n",
      "4379 ADXN\n"
     ]
    },
    {
     "name": "stderr",
     "output_type": "stream",
     "text": [
      "Unknown contract: Stock(symbol='YTEN', exchange='SMART', currency='USD')\n"
     ]
    },
    {
     "name": "stdout",
     "output_type": "stream",
     "text": [
      "4380 GMAB\n",
      "4383 VALN\n",
      "4384 VALN\n",
      "4385 VALN\n",
      "4386 VALN\n",
      "4387 QGEN\n"
     ]
    },
    {
     "name": "stderr",
     "output_type": "stream",
     "text": [
      "Unknown contract: Stock(symbol='YTEN', exchange='SMART', currency='USD')\n",
      "Unknown contract: Stock(symbol='YTEN', exchange='SMART', currency='USD')\n"
     ]
    },
    {
     "name": "stdout",
     "output_type": "stream",
     "text": [
      "4388 QGEN\n",
      "4393 GMAB\n",
      "4394 NTLA\n",
      "4395 SEER\n",
      "4396 GMAB\n",
      "4397 IMMP\n",
      "4398 QGEN\n",
      "4399 QGEN\n",
      "4400 BIIB\n",
      "4401 OCS\n",
      "4402 OCS\n",
      "4403 OCS\n",
      "4404 VALN\n",
      "4405 VALN\n",
      "4406 ADXN\n",
      "4407 VALN\n",
      "4408 VALN\n",
      "4409 ALVO\n",
      "4410 ALVO\n",
      "4411 ALVO\n",
      "4412 ADXN\n",
      "4413 ADXN\n",
      "4414 VALN\n",
      "4415 VALN\n",
      "4416 LGVN\n",
      "4417 DBVT\n",
      "4418 DBVT\n",
      "4419 GMAB\n",
      "4420 BNTX\n",
      "4421 BNTX\n",
      "4422 BICX\n",
      "4423 PCVX\n",
      "4424 VALN\n",
      "4425 VALN\n",
      "4426 QGEN\n",
      "4427 PYPD\n",
      "4428 CCCC\n",
      "4429 GMAB\n",
      "4430 ADAG\n",
      "4431 ADXN\n",
      "4432 GLPG\n",
      "4433 OCS\n",
      "4434 BIIB\n",
      "4435 LGVN\n",
      "4436 QGEN\n",
      "4437 ADXN\n"
     ]
    },
    {
     "name": "stderr",
     "output_type": "stream",
     "text": [
      "Unknown contract: Stock(symbol='BNOX', exchange='SMART', currency='USD')\n",
      "Unknown contract: Stock(symbol='BNOX', exchange='SMART', currency='USD')\n"
     ]
    },
    {
     "name": "stdout",
     "output_type": "stream",
     "text": [
      "4438 ELOX\n",
      "4441 GLPG\n",
      "4442 ADPT\n",
      "4443 GMAB\n",
      "4444 GMAB\n"
     ]
    },
    {
     "name": "stderr",
     "output_type": "stream",
     "text": [
      "Unknown contract: Stock(symbol='BNOX', exchange='SMART', currency='USD')\n"
     ]
    },
    {
     "name": "stdout",
     "output_type": "stream",
     "text": [
      "4445 CCCC\n"
     ]
    },
    {
     "name": "stderr",
     "output_type": "stream",
     "text": [
      "Unknown contract: Stock(symbol='BNOX', exchange='SMART', currency='USD')\n",
      "Unknown contract: Stock(symbol='BNOX', exchange='SMART', currency='USD')\n",
      "Unknown contract: Stock(symbol='BNOX', exchange='SMART', currency='USD')\n",
      "Unknown contract: Stock(symbol='BIOR', exchange='SMART', currency='USD')\n",
      "/var/folders/j4/cvc05xl96vd2tzttrm50lzb00000gn/T/ipykernel_56080/2354340292.py:16: FutureWarning: Parsed string \"Thu, 27 Feb 2025 08:00 EST\" included an un-recognized timezone \"EST\". Dropping unrecognized timezones is deprecated; in a future version this will raise. Instead pass the string without the timezone, then use .tz_localize to convert to a recognized timezone.\n",
      "  date = pd.to_datetime(start_time).date()\n"
     ]
    },
    {
     "name": "stdout",
     "output_type": "stream",
     "text": [
      "4451 ADAG\n"
     ]
    },
    {
     "name": "stderr",
     "output_type": "stream",
     "text": [
      "/var/folders/j4/cvc05xl96vd2tzttrm50lzb00000gn/T/ipykernel_56080/1462176903.py:2: FutureWarning: Parsed string \"Thu, 27 Feb 2025 08:00 EST\" included an un-recognized timezone \"EST\". Dropping unrecognized timezones is deprecated; in a future version this will raise. Instead pass the string without the timezone, then use .tz_localize to convert to a recognized timezone.\n",
      "  target_time = pd.to_datetime(target_time)\n"
     ]
    },
    {
     "ename": "TypeError",
     "evalue": "Invalid comparison between dtype=datetime64[ns, US/Eastern] and Timestamp",
     "output_type": "error",
     "traceback": [
      "\u001b[0;31m---------------------------------------------------------------------------\u001b[0m",
      "\u001b[0;31mTypeError\u001b[0m                                 Traceback (most recent call last)",
      "File \u001b[0;32m~/.virtualenvs/news-sentiment/lib/python3.11/site-packages/pandas/core/arrays/datetimelike.py:536\u001b[0m, in \u001b[0;36mDatetimeLikeArrayMixin._validate_comparison_value\u001b[0;34m(self, other)\u001b[0m\n\u001b[1;32m    535\u001b[0m \u001b[38;5;28;01mtry\u001b[39;00m:\n\u001b[0;32m--> 536\u001b[0m     \u001b[38;5;28;43mself\u001b[39;49m\u001b[38;5;241;43m.\u001b[39;49m\u001b[43m_check_compatible_with\u001b[49m\u001b[43m(\u001b[49m\u001b[43mother\u001b[49m\u001b[43m)\u001b[49m\n\u001b[1;32m    537\u001b[0m \u001b[38;5;28;01mexcept\u001b[39;00m (\u001b[38;5;167;01mTypeError\u001b[39;00m, IncompatibleFrequency) \u001b[38;5;28;01mas\u001b[39;00m err:\n\u001b[1;32m    538\u001b[0m     \u001b[38;5;66;03m# e.g. tzawareness mismatch\u001b[39;00m\n",
      "File \u001b[0;32m~/.virtualenvs/news-sentiment/lib/python3.11/site-packages/pandas/core/arrays/datetimes.py:540\u001b[0m, in \u001b[0;36mDatetimeArray._check_compatible_with\u001b[0;34m(self, other)\u001b[0m\n\u001b[1;32m    539\u001b[0m     \u001b[38;5;28;01mreturn\u001b[39;00m\n\u001b[0;32m--> 540\u001b[0m \u001b[38;5;28;43mself\u001b[39;49m\u001b[38;5;241;43m.\u001b[39;49m\u001b[43m_assert_tzawareness_compat\u001b[49m\u001b[43m(\u001b[49m\u001b[43mother\u001b[49m\u001b[43m)\u001b[49m\n",
      "File \u001b[0;32m~/.virtualenvs/news-sentiment/lib/python3.11/site-packages/pandas/core/arrays/datetimes.py:786\u001b[0m, in \u001b[0;36mDatetimeArray._assert_tzawareness_compat\u001b[0;34m(self, other)\u001b[0m\n\u001b[1;32m    785\u001b[0m \u001b[38;5;28;01melif\u001b[39;00m other_tz \u001b[38;5;129;01mis\u001b[39;00m \u001b[38;5;28;01mNone\u001b[39;00m:\n\u001b[0;32m--> 786\u001b[0m     \u001b[38;5;28;01mraise\u001b[39;00m \u001b[38;5;167;01mTypeError\u001b[39;00m(\n\u001b[1;32m    787\u001b[0m         \u001b[38;5;124m\"\u001b[39m\u001b[38;5;124mCannot compare tz-naive and tz-aware datetime-like objects\u001b[39m\u001b[38;5;124m\"\u001b[39m\n\u001b[1;32m    788\u001b[0m     )\n",
      "\u001b[0;31mTypeError\u001b[0m: Cannot compare tz-naive and tz-aware datetime-like objects",
      "\nThe above exception was the direct cause of the following exception:\n",
      "\u001b[0;31mInvalidComparison\u001b[0m                         Traceback (most recent call last)",
      "File \u001b[0;32m~/.virtualenvs/news-sentiment/lib/python3.11/site-packages/pandas/core/arrays/datetimelike.py:983\u001b[0m, in \u001b[0;36mDatetimeLikeArrayMixin._cmp_method\u001b[0;34m(self, other, op)\u001b[0m\n\u001b[1;32m    982\u001b[0m \u001b[38;5;28;01mtry\u001b[39;00m:\n\u001b[0;32m--> 983\u001b[0m     other \u001b[38;5;241m=\u001b[39m \u001b[38;5;28;43mself\u001b[39;49m\u001b[38;5;241;43m.\u001b[39;49m\u001b[43m_validate_comparison_value\u001b[49m\u001b[43m(\u001b[49m\u001b[43mother\u001b[49m\u001b[43m)\u001b[49m\n\u001b[1;32m    984\u001b[0m \u001b[38;5;28;01mexcept\u001b[39;00m InvalidComparison:\n",
      "File \u001b[0;32m~/.virtualenvs/news-sentiment/lib/python3.11/site-packages/pandas/core/arrays/datetimelike.py:539\u001b[0m, in \u001b[0;36mDatetimeLikeArrayMixin._validate_comparison_value\u001b[0;34m(self, other)\u001b[0m\n\u001b[1;32m    537\u001b[0m     \u001b[38;5;28;01mexcept\u001b[39;00m (\u001b[38;5;167;01mTypeError\u001b[39;00m, IncompatibleFrequency) \u001b[38;5;28;01mas\u001b[39;00m err:\n\u001b[1;32m    538\u001b[0m         \u001b[38;5;66;03m# e.g. tzawareness mismatch\u001b[39;00m\n\u001b[0;32m--> 539\u001b[0m         \u001b[38;5;28;01mraise\u001b[39;00m InvalidComparison(other) \u001b[38;5;28;01mfrom\u001b[39;00m \u001b[38;5;21;01merr\u001b[39;00m\n\u001b[1;32m    541\u001b[0m \u001b[38;5;28;01melif\u001b[39;00m \u001b[38;5;129;01mnot\u001b[39;00m is_list_like(other):\n",
      "\u001b[0;31mInvalidComparison\u001b[0m: 2025-02-26 15:59:00",
      "\nDuring handling of the above exception, another exception occurred:\n",
      "\u001b[0;31mTypeError\u001b[0m                                 Traceback (most recent call last)",
      "Cell \u001b[0;32mIn[12], line 13\u001b[0m\n\u001b[1;32m      7\u001b[0m     \u001b[38;5;28mprint\u001b[39m(\u001b[38;5;124m\"\u001b[39m\u001b[38;5;124mFile exists\u001b[39m\u001b[38;5;124m\"\u001b[39m)\n\u001b[1;32m      8\u001b[0m     news_df \u001b[38;5;241m=\u001b[39m pd\u001b[38;5;241m.\u001b[39mread_csv(\n\u001b[1;32m      9\u001b[0m         \u001b[38;5;124m\"\u001b[39m\u001b[38;5;124m/Users/akseljoonas/Documents/news-sentiment/data/processed/news+prices-combined.csv\u001b[39m\u001b[38;5;124m\"\u001b[39m\n\u001b[1;32m     10\u001b[0m     )\n\u001b[0;32m---> 13\u001b[0m stock_df \u001b[38;5;241m=\u001b[39m \u001b[43madd_stock_data\u001b[49m\u001b[43m(\u001b[49m\u001b[43mnews_df\u001b[49m\u001b[43m)\u001b[49m\n\u001b[1;32m     15\u001b[0m stock_df\u001b[38;5;241m.\u001b[39mdropna(subset\u001b[38;5;241m=\u001b[39m[\u001b[38;5;124m\"\u001b[39m\u001b[38;5;124mlabels\u001b[39m\u001b[38;5;124m\"\u001b[39m], axis\u001b[38;5;241m=\u001b[39m\u001b[38;5;241m0\u001b[39m, inplace\u001b[38;5;241m=\u001b[39m\u001b[38;5;28;01mTrue\u001b[39;00m)\n\u001b[1;32m     16\u001b[0m stock_df[\u001b[38;5;124m\"\u001b[39m\u001b[38;5;124mtopic\u001b[39m\u001b[38;5;124m\"\u001b[39m] \u001b[38;5;241m=\u001b[39m (\n\u001b[1;32m     17\u001b[0m     stock_df[\u001b[38;5;124m\"\u001b[39m\u001b[38;5;124mtopic\u001b[39m\u001b[38;5;124m\"\u001b[39m]\n\u001b[1;32m     18\u001b[0m     \u001b[38;5;241m.\u001b[39mstr\u001b[38;5;241m.\u001b[39mlower()\n\u001b[0;32m   (...)\u001b[0m\n\u001b[1;32m     22\u001b[0m     \u001b[38;5;241m.\u001b[39mstr\u001b[38;5;241m.\u001b[39mreplace(\u001b[38;5;124m\"\u001b[39m\u001b[38;5;124m'\u001b[39m\u001b[38;5;124m\"\u001b[39m, \u001b[38;5;124m\"\u001b[39m\u001b[38;5;124m\"\u001b[39m)\n\u001b[1;32m     23\u001b[0m )\n",
      "Cell \u001b[0;32mIn[11], line 17\u001b[0m, in \u001b[0;36madd_stock_data\u001b[0;34m(df)\u001b[0m\n\u001b[1;32m     15\u001b[0m \u001b[38;5;28;01mif\u001b[39;00m \u001b[38;5;129;01mnot\u001b[39;00m day_df\u001b[38;5;241m.\u001b[39mempty:\n\u001b[1;32m     16\u001b[0m     \u001b[38;5;28mprint\u001b[39m(\u001b[38;5;124mf\u001b[39m\u001b[38;5;124m\"\u001b[39m\u001b[38;5;132;01m{\u001b[39;00mindex\u001b[38;5;132;01m}\u001b[39;00m\u001b[38;5;124m \u001b[39m\u001b[38;5;132;01m{\u001b[39;00mticker\u001b[38;5;132;01m}\u001b[39;00m\u001b[38;5;124m\"\u001b[39m)\n\u001b[0;32m---> 17\u001b[0m     stock_info \u001b[38;5;241m=\u001b[39m \u001b[43mformat_bars\u001b[49m\u001b[43m(\u001b[49m\u001b[43mday_df\u001b[49m\u001b[43m,\u001b[49m\u001b[43m \u001b[49m\u001b[43mstart_time\u001b[49m\u001b[43m,\u001b[49m\u001b[43m \u001b[49m\u001b[43mticker\u001b[49m\u001b[43m)\u001b[49m\n\u001b[1;32m     19\u001b[0m     \u001b[38;5;66;03m# Update row\u001b[39;00m\n\u001b[1;32m     20\u001b[0m     \u001b[38;5;28;01mfor\u001b[39;00m col \u001b[38;5;129;01min\u001b[39;00m stock_info\u001b[38;5;241m.\u001b[39mkeys():\n",
      "Cell \u001b[0;32mIn[10], line 14\u001b[0m, in \u001b[0;36mformat_bars\u001b[0;34m(df, target_time, ticker)\u001b[0m\n\u001b[1;32m      8\u001b[0m end_time \u001b[38;5;241m=\u001b[39m target_time \u001b[38;5;241m+\u001b[39m timedelta(hours\u001b[38;5;241m=\u001b[39m\u001b[38;5;241m8\u001b[39m)\n\u001b[1;32m     10\u001b[0m \u001b[38;5;66;03m# day_df = df\u001b[39;00m\n\u001b[1;32m     11\u001b[0m \u001b[38;5;66;03m# daily_volume = day_df[\"volume\"].sum()\u001b[39;00m\n\u001b[1;32m     12\u001b[0m \n\u001b[1;32m     13\u001b[0m \u001b[38;5;66;03m# Get the time needed\u001b[39;00m\n\u001b[0;32m---> 14\u001b[0m df \u001b[38;5;241m=\u001b[39m df[(\u001b[43mdf\u001b[49m\u001b[43m[\u001b[49m\u001b[38;5;124;43m\"\u001b[39;49m\u001b[38;5;124;43mdate\u001b[39;49m\u001b[38;5;124;43m\"\u001b[39;49m\u001b[43m]\u001b[49m\u001b[43m \u001b[49m\u001b[38;5;241;43m>\u001b[39;49m\u001b[38;5;241;43m=\u001b[39;49m\u001b[43m \u001b[49m\u001b[43mstart_time\u001b[49m) \u001b[38;5;241m&\u001b[39m (df[\u001b[38;5;124m\"\u001b[39m\u001b[38;5;124mdate\u001b[39m\u001b[38;5;124m\"\u001b[39m] \u001b[38;5;241m<\u001b[39m\u001b[38;5;241m=\u001b[39m market_end_time)]\n\u001b[1;32m     16\u001b[0m \u001b[38;5;28;01mif\u001b[39;00m df\u001b[38;5;241m.\u001b[39mempty:\n\u001b[1;32m     17\u001b[0m     \u001b[38;5;28;01mreturn\u001b[39;00m {\n\u001b[1;32m     18\u001b[0m         \u001b[38;5;124m\"\u001b[39m\u001b[38;5;124mopen\u001b[39m\u001b[38;5;124m\"\u001b[39m: \u001b[38;5;28;01mNone\u001b[39;00m,\n\u001b[1;32m     19\u001b[0m         \u001b[38;5;124m\"\u001b[39m\u001b[38;5;124mhigh\u001b[39m\u001b[38;5;124m\"\u001b[39m: \u001b[38;5;28;01mNone\u001b[39;00m,\n\u001b[0;32m   (...)\u001b[0m\n\u001b[1;32m     35\u001b[0m         \u001b[38;5;124m'\u001b[39m\u001b[38;5;124mbuy_in_price\u001b[39m\u001b[38;5;124m'\u001b[39m: \u001b[38;5;28;01mNone\u001b[39;00m,\n\u001b[1;32m     36\u001b[0m     }\n",
      "File \u001b[0;32m~/.virtualenvs/news-sentiment/lib/python3.11/site-packages/pandas/core/ops/common.py:76\u001b[0m, in \u001b[0;36m_unpack_zerodim_and_defer.<locals>.new_method\u001b[0;34m(self, other)\u001b[0m\n\u001b[1;32m     72\u001b[0m             \u001b[38;5;28;01mreturn\u001b[39;00m \u001b[38;5;28mNotImplemented\u001b[39m\n\u001b[1;32m     74\u001b[0m other \u001b[38;5;241m=\u001b[39m item_from_zerodim(other)\n\u001b[0;32m---> 76\u001b[0m \u001b[38;5;28;01mreturn\u001b[39;00m \u001b[43mmethod\u001b[49m\u001b[43m(\u001b[49m\u001b[38;5;28;43mself\u001b[39;49m\u001b[43m,\u001b[49m\u001b[43m \u001b[49m\u001b[43mother\u001b[49m\u001b[43m)\u001b[49m\n",
      "File \u001b[0;32m~/.virtualenvs/news-sentiment/lib/python3.11/site-packages/pandas/core/arraylike.py:60\u001b[0m, in \u001b[0;36mOpsMixin.__ge__\u001b[0;34m(self, other)\u001b[0m\n\u001b[1;32m     58\u001b[0m \u001b[38;5;129m@unpack_zerodim_and_defer\u001b[39m(\u001b[38;5;124m\"\u001b[39m\u001b[38;5;124m__ge__\u001b[39m\u001b[38;5;124m\"\u001b[39m)\n\u001b[1;32m     59\u001b[0m \u001b[38;5;28;01mdef\u001b[39;00m \u001b[38;5;21m__ge__\u001b[39m(\u001b[38;5;28mself\u001b[39m, other):\n\u001b[0;32m---> 60\u001b[0m     \u001b[38;5;28;01mreturn\u001b[39;00m \u001b[38;5;28;43mself\u001b[39;49m\u001b[38;5;241;43m.\u001b[39;49m\u001b[43m_cmp_method\u001b[49m\u001b[43m(\u001b[49m\u001b[43mother\u001b[49m\u001b[43m,\u001b[49m\u001b[43m \u001b[49m\u001b[43moperator\u001b[49m\u001b[38;5;241;43m.\u001b[39;49m\u001b[43mge\u001b[49m\u001b[43m)\u001b[49m\n",
      "File \u001b[0;32m~/.virtualenvs/news-sentiment/lib/python3.11/site-packages/pandas/core/series.py:6119\u001b[0m, in \u001b[0;36mSeries._cmp_method\u001b[0;34m(self, other, op)\u001b[0m\n\u001b[1;32m   6116\u001b[0m lvalues \u001b[38;5;241m=\u001b[39m \u001b[38;5;28mself\u001b[39m\u001b[38;5;241m.\u001b[39m_values\n\u001b[1;32m   6117\u001b[0m rvalues \u001b[38;5;241m=\u001b[39m extract_array(other, extract_numpy\u001b[38;5;241m=\u001b[39m\u001b[38;5;28;01mTrue\u001b[39;00m, extract_range\u001b[38;5;241m=\u001b[39m\u001b[38;5;28;01mTrue\u001b[39;00m)\n\u001b[0;32m-> 6119\u001b[0m res_values \u001b[38;5;241m=\u001b[39m \u001b[43mops\u001b[49m\u001b[38;5;241;43m.\u001b[39;49m\u001b[43mcomparison_op\u001b[49m\u001b[43m(\u001b[49m\u001b[43mlvalues\u001b[49m\u001b[43m,\u001b[49m\u001b[43m \u001b[49m\u001b[43mrvalues\u001b[49m\u001b[43m,\u001b[49m\u001b[43m \u001b[49m\u001b[43mop\u001b[49m\u001b[43m)\u001b[49m\n\u001b[1;32m   6121\u001b[0m \u001b[38;5;28;01mreturn\u001b[39;00m \u001b[38;5;28mself\u001b[39m\u001b[38;5;241m.\u001b[39m_construct_result(res_values, name\u001b[38;5;241m=\u001b[39mres_name)\n",
      "File \u001b[0;32m~/.virtualenvs/news-sentiment/lib/python3.11/site-packages/pandas/core/ops/array_ops.py:330\u001b[0m, in \u001b[0;36mcomparison_op\u001b[0;34m(left, right, op)\u001b[0m\n\u001b[1;32m    321\u001b[0m         \u001b[38;5;28;01mraise\u001b[39;00m \u001b[38;5;167;01mValueError\u001b[39;00m(\n\u001b[1;32m    322\u001b[0m             \u001b[38;5;124m\"\u001b[39m\u001b[38;5;124mLengths must match to compare\u001b[39m\u001b[38;5;124m\"\u001b[39m, lvalues\u001b[38;5;241m.\u001b[39mshape, rvalues\u001b[38;5;241m.\u001b[39mshape\n\u001b[1;32m    323\u001b[0m         )\n\u001b[1;32m    325\u001b[0m \u001b[38;5;28;01mif\u001b[39;00m should_extension_dispatch(lvalues, rvalues) \u001b[38;5;129;01mor\u001b[39;00m (\n\u001b[1;32m    326\u001b[0m     (\u001b[38;5;28misinstance\u001b[39m(rvalues, (Timedelta, BaseOffset, Timestamp)) \u001b[38;5;129;01mor\u001b[39;00m right \u001b[38;5;129;01mis\u001b[39;00m NaT)\n\u001b[1;32m    327\u001b[0m     \u001b[38;5;129;01mand\u001b[39;00m lvalues\u001b[38;5;241m.\u001b[39mdtype \u001b[38;5;241m!=\u001b[39m \u001b[38;5;28mobject\u001b[39m\n\u001b[1;32m    328\u001b[0m ):\n\u001b[1;32m    329\u001b[0m     \u001b[38;5;66;03m# Call the method on lvalues\u001b[39;00m\n\u001b[0;32m--> 330\u001b[0m     res_values \u001b[38;5;241m=\u001b[39m op(lvalues, rvalues)\n\u001b[1;32m    332\u001b[0m \u001b[38;5;28;01melif\u001b[39;00m is_scalar(rvalues) \u001b[38;5;129;01mand\u001b[39;00m isna(rvalues):  \u001b[38;5;66;03m# TODO: but not pd.NA?\u001b[39;00m\n\u001b[1;32m    333\u001b[0m     \u001b[38;5;66;03m# numpy does not like comparisons vs None\u001b[39;00m\n\u001b[1;32m    334\u001b[0m     \u001b[38;5;28;01mif\u001b[39;00m op \u001b[38;5;129;01mis\u001b[39;00m operator\u001b[38;5;241m.\u001b[39mne:\n",
      "File \u001b[0;32m~/.virtualenvs/news-sentiment/lib/python3.11/site-packages/pandas/core/ops/common.py:76\u001b[0m, in \u001b[0;36m_unpack_zerodim_and_defer.<locals>.new_method\u001b[0;34m(self, other)\u001b[0m\n\u001b[1;32m     72\u001b[0m             \u001b[38;5;28;01mreturn\u001b[39;00m \u001b[38;5;28mNotImplemented\u001b[39m\n\u001b[1;32m     74\u001b[0m other \u001b[38;5;241m=\u001b[39m item_from_zerodim(other)\n\u001b[0;32m---> 76\u001b[0m \u001b[38;5;28;01mreturn\u001b[39;00m \u001b[43mmethod\u001b[49m\u001b[43m(\u001b[49m\u001b[38;5;28;43mself\u001b[39;49m\u001b[43m,\u001b[49m\u001b[43m \u001b[49m\u001b[43mother\u001b[49m\u001b[43m)\u001b[49m\n",
      "File \u001b[0;32m~/.virtualenvs/news-sentiment/lib/python3.11/site-packages/pandas/core/arraylike.py:60\u001b[0m, in \u001b[0;36mOpsMixin.__ge__\u001b[0;34m(self, other)\u001b[0m\n\u001b[1;32m     58\u001b[0m \u001b[38;5;129m@unpack_zerodim_and_defer\u001b[39m(\u001b[38;5;124m\"\u001b[39m\u001b[38;5;124m__ge__\u001b[39m\u001b[38;5;124m\"\u001b[39m)\n\u001b[1;32m     59\u001b[0m \u001b[38;5;28;01mdef\u001b[39;00m \u001b[38;5;21m__ge__\u001b[39m(\u001b[38;5;28mself\u001b[39m, other):\n\u001b[0;32m---> 60\u001b[0m     \u001b[38;5;28;01mreturn\u001b[39;00m \u001b[38;5;28;43mself\u001b[39;49m\u001b[38;5;241;43m.\u001b[39;49m\u001b[43m_cmp_method\u001b[49m\u001b[43m(\u001b[49m\u001b[43mother\u001b[49m\u001b[43m,\u001b[49m\u001b[43m \u001b[49m\u001b[43moperator\u001b[49m\u001b[38;5;241;43m.\u001b[39;49m\u001b[43mge\u001b[49m\u001b[43m)\u001b[49m\n",
      "File \u001b[0;32m~/.virtualenvs/news-sentiment/lib/python3.11/site-packages/pandas/core/arrays/datetimelike.py:985\u001b[0m, in \u001b[0;36mDatetimeLikeArrayMixin._cmp_method\u001b[0;34m(self, other, op)\u001b[0m\n\u001b[1;32m    983\u001b[0m     other \u001b[38;5;241m=\u001b[39m \u001b[38;5;28mself\u001b[39m\u001b[38;5;241m.\u001b[39m_validate_comparison_value(other)\n\u001b[1;32m    984\u001b[0m \u001b[38;5;28;01mexcept\u001b[39;00m InvalidComparison:\n\u001b[0;32m--> 985\u001b[0m     \u001b[38;5;28;01mreturn\u001b[39;00m \u001b[43minvalid_comparison\u001b[49m\u001b[43m(\u001b[49m\u001b[38;5;28;43mself\u001b[39;49m\u001b[43m,\u001b[49m\u001b[43m \u001b[49m\u001b[43mother\u001b[49m\u001b[43m,\u001b[49m\u001b[43m \u001b[49m\u001b[43mop\u001b[49m\u001b[43m)\u001b[49m\n\u001b[1;32m    987\u001b[0m dtype \u001b[38;5;241m=\u001b[39m \u001b[38;5;28mgetattr\u001b[39m(other, \u001b[38;5;124m\"\u001b[39m\u001b[38;5;124mdtype\u001b[39m\u001b[38;5;124m\"\u001b[39m, \u001b[38;5;28;01mNone\u001b[39;00m)\n\u001b[1;32m    988\u001b[0m \u001b[38;5;28;01mif\u001b[39;00m is_object_dtype(dtype):\n\u001b[1;32m    989\u001b[0m     \u001b[38;5;66;03m# We have to use comp_method_OBJECT_ARRAY instead of numpy\u001b[39;00m\n\u001b[1;32m    990\u001b[0m     \u001b[38;5;66;03m#  comparison otherwise it would raise when comparing to None\u001b[39;00m\n",
      "File \u001b[0;32m~/.virtualenvs/news-sentiment/lib/python3.11/site-packages/pandas/core/ops/invalid.py:40\u001b[0m, in \u001b[0;36minvalid_comparison\u001b[0;34m(left, right, op)\u001b[0m\n\u001b[1;32m     38\u001b[0m \u001b[38;5;28;01melse\u001b[39;00m:\n\u001b[1;32m     39\u001b[0m     typ \u001b[38;5;241m=\u001b[39m \u001b[38;5;28mtype\u001b[39m(right)\u001b[38;5;241m.\u001b[39m\u001b[38;5;18m__name__\u001b[39m\n\u001b[0;32m---> 40\u001b[0m     \u001b[38;5;28;01mraise\u001b[39;00m \u001b[38;5;167;01mTypeError\u001b[39;00m(\u001b[38;5;124mf\u001b[39m\u001b[38;5;124m\"\u001b[39m\u001b[38;5;124mInvalid comparison between dtype=\u001b[39m\u001b[38;5;132;01m{\u001b[39;00mleft\u001b[38;5;241m.\u001b[39mdtype\u001b[38;5;132;01m}\u001b[39;00m\u001b[38;5;124m and \u001b[39m\u001b[38;5;132;01m{\u001b[39;00mtyp\u001b[38;5;132;01m}\u001b[39;00m\u001b[38;5;124m\"\u001b[39m)\n\u001b[1;32m     41\u001b[0m \u001b[38;5;28;01mreturn\u001b[39;00m res_values\n",
      "\u001b[0;31mTypeError\u001b[0m: Invalid comparison between dtype=datetime64[ns, US/Eastern] and Timestamp"
     ]
    }
   ],
   "source": [
    "import os\n",
    "\n",
    "\n",
    "if os.path.exists(\n",
    "    \"/Users/akseljoonas/Documents/news-sentiment/data/processed/news+prices-combined.csv\"\n",
    "):\n",
    "    print(\"File exists\")\n",
    "    news_df = pd.read_csv(\n",
    "        \"/Users/akseljoonas/Documents/news-sentiment/data/processed/news+prices-combined.csv\"\n",
    "    )\n",
    "\n",
    "\n",
    "stock_df = add_stock_data(news_df)\n",
    "\n",
    "stock_df.dropna(subset=[\"labels\"], axis=0, inplace=True)\n",
    "stock_df[\"topic\"] = (\n",
    "    stock_df[\"topic\"]\n",
    "    .str.lower()\n",
    "    .str.replace(\" \", \"_\")\n",
    "    .str.replace(\"/\", \"_\")\n",
    "    .str.replace(\"&\", \"\")\n",
    "    .str.replace(\"'\", \"\")\n",
    ")"
   ]
  },
  {
   "cell_type": "code",
   "execution_count": null,
   "metadata": {},
   "outputs": [],
   "source": []
  },
  {
   "cell_type": "code",
   "execution_count": null,
   "metadata": {},
   "outputs": [],
   "source": [
    "stock_df.describe()"
   ]
  },
  {
   "cell_type": "code",
   "execution_count": 14,
   "metadata": {},
   "outputs": [],
   "source": [
    "stock_df.to_csv(\n",
    "    \"/Users/akseljoonas/Documents/news-sentiment/data/processed/news+prices-combined.csv\",\n",
    "    index=False,\n",
    ")"
   ]
  },
  {
   "cell_type": "code",
   "execution_count": null,
   "metadata": {},
   "outputs": [],
   "source": []
  }
 ],
 "metadata": {
  "kernelspec": {
   "display_name": "news-sentiment",
   "language": "python",
   "name": "python3"
  },
  "language_info": {
   "codemirror_mode": {
    "name": "ipython",
    "version": 3
   },
   "file_extension": ".py",
   "mimetype": "text/x-python",
   "name": "python",
   "nbconvert_exporter": "python",
   "pygments_lexer": "ipython3",
   "version": "3.11.8"
  }
 },
 "nbformat": 4,
 "nbformat_minor": 2
}
