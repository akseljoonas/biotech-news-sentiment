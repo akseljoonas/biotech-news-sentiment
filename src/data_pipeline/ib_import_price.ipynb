{
 "cells": [
  {
   "cell_type": "code",
   "execution_count": 42,
   "metadata": {},
   "outputs": [],
   "source": [
    "from datetime import datetime, time, timedelta\n",
    "\n",
    "import pandas as pd\n",
    "\n",
    "from ib_async.ib import IB\n",
    "from ib_async.contract import Stock\n",
    "from ib_async import util\n",
    "\n",
    "from tqdm.auto import tqdm"
   ]
  },
  {
   "cell_type": "markdown",
   "metadata": {},
   "source": [
    "### Connect IB\n"
   ]
  },
  {
   "cell_type": "code",
   "execution_count": null,
   "metadata": {},
   "outputs": [],
   "source": [
    "util.startLoop()\n",
    "ib = IB()\n",
    "ib.connect(\"127.0.0.1\", 4001, clientId=1)"
   ]
  },
  {
   "cell_type": "code",
   "execution_count": null,
   "metadata": {},
   "outputs": [],
   "source": [
    "news_df = pd.read_csv(\"/Users/akseljoonas/Documents/predtrade/news_data_nov.csv\")"
   ]
  },
  {
   "cell_type": "markdown",
   "metadata": {},
   "source": [
    "### Validate tickers\n"
   ]
  },
  {
   "cell_type": "code",
   "execution_count": null,
   "metadata": {},
   "outputs": [],
   "source": [
    "import yaml\n",
    "def load_config(sector = 'biotech'):\n",
    "    config_file = f\"{sector}.yaml\"\n",
    "    with open(config_file, \"r\") as file:\n",
    "        rss_dict = yaml.safe_load(file)\n",
    "\n",
    "    return rss_dict"
   ]
  },
  {
   "cell_type": "code",
   "execution_count": null,
   "metadata": {},
   "outputs": [],
   "source": [
    "rss_dict = load_config()\n",
    "valid_tickers = []\n",
    "for ticker in rss_dict.keys():\n",
    "    contract = Stock(ticker, \"SMART\", \"USD\")\n",
    "    if ib.qualifyContracts(contract):\n",
    "        valid_tickers.append(ticker)\n",
    "        \n",
    "for ticker in rss_dict.keys():\n",
    "    if ticker not in valid_tickers:\n",
    "        print(ticker)\n",
    "print(len(rss_dict.keys()), len(valid_tickers))"
   ]
  },
  {
   "cell_type": "markdown",
   "metadata": {},
   "source": [
    "remove invalid tickers from df\n"
   ]
  },
  {
   "cell_type": "code",
   "execution_count": null,
   "metadata": {},
   "outputs": [],
   "source": [
    "news_df = news_df[news_df[\"ticker\"].isin(valid_tickers)]\n"
   ]
  },
  {
   "cell_type": "code",
   "execution_count": null,
   "metadata": {},
   "outputs": [],
   "source": [
    "news_df.to_csv(\"/Users/akseljoonas/Documents/predtrade/news_data_nov_validated.csv\", index=False)"
   ]
  },
  {
   "cell_type": "markdown",
   "metadata": {},
   "source": [
    "### Turn into eastern time"
   ]
  },
  {
   "cell_type": "code",
   "execution_count": null,
   "metadata": {},
   "outputs": [],
   "source": [
    "import pytz\n",
    "\n",
    "utc = pytz.utc\n",
    "eastern = pytz.timezone(\"US/Eastern\")\n",
    "\n",
    "# Convert 'published_gmt' from UTC to Eastern Time\n",
    "news_df[\"published_gmt\"] = news_df[\"published_gmt\"].apply(\n",
    "    lambda x: datetime.fromisoformat(x)\n",
    "    .astimezone(eastern)\n",
    "    .strftime(\"%Y-%m-%d %H:%M:%S%z\")\n",
    ")\n",
    "news_df.head()"
   ]
  },
  {
   "cell_type": "code",
   "execution_count": null,
   "metadata": {},
   "outputs": [],
   "source": [
    "news_df.to_csv(\n",
    "    \"/Users/akseljoonas/Documents/predtrade/news_data_nov_validated.csv\", index=False\n",
    ")"
   ]
  },
  {
   "cell_type": "markdown",
   "metadata": {},
   "source": [
    "### Import prices"
   ]
  },
  {
   "cell_type": "code",
   "execution_count": 44,
   "metadata": {},
   "outputs": [],
   "source": [
    "def get_day_price(ticker, start_time):\n",
    "    contract = Stock(ticker, \"SMART\", \"USD\")\n",
    "    if not ib.qualifyContracts(contract):\n",
    "        return pd.DataFrame()\n",
    "\n",
    "    date = datetime.strptime(start_time, \"%Y-%m-%d %H:%M:%S%z\").date()\n",
    "    end_of_day = datetime.combine(date, time(23, 59, 59))\n",
    "\n",
    "    bar_data = ib.reqHistoricalData(\n",
    "        contract,\n",
    "        endDateTime=end_of_day.strftime(\"%Y%m%d %H:%M:%S\"),\n",
    "        durationStr=\"2 D\",\n",
    "        barSizeSetting=\"1 min\",\n",
    "        whatToShow=\"TRADES\",\n",
    "        useRTH=False,\n",
    "    )\n",
    "    bar_data = util.df(bar_data)\n",
    "\n",
    "    if bar_data is None or bar_data.empty:\n",
    "\n",
    "        end_of_day = end_of_day + timedelta(days=1)\n",
    "        bar_data = ib.reqHistoricalData(\n",
    "            contract,\n",
    "            endDateTime=end_of_day.strftime(\"%Y%m%d %H:%M:%S\"),\n",
    "            durationStr=\"3 D\",\n",
    "            barSizeSetting=\"1 min\",\n",
    "            whatToShow=\"TRADES\",\n",
    "            useRTH=False,\n",
    "        )\n",
    "        bar_data = util.df(bar_data)\n",
    "        if bar_data is None or bar_data.empty:\n",
    "            bar_data = pd.DataFrame()\n",
    "\n",
    "    return bar_data"
   ]
  },
  {
   "cell_type": "code",
   "execution_count": 45,
   "metadata": {},
   "outputs": [],
   "source": [
    "import yfinance as yf\n",
    "\n",
    "\n",
    "def get_yf_data(ticker, start_date):\n",
    "    try:\n",
    "        stock = yf.Ticker(ticker)\n",
    "    except Exception:\n",
    "        return None, None\n",
    "    info = stock.info\n",
    "    if info is None:\n",
    "        return None, None\n",
    "\n",
    "    try:\n",
    "        float_shares = info[\"sharesOutstanding\"]\n",
    "    except KeyError:\n",
    "        float_shares = None\n",
    "\n",
    "    try:\n",
    "        short_interest = info[\"dateShortInterest\"]\n",
    "    except KeyError:\n",
    "        short_interest = None\n",
    "\n",
    "    return float_shares, short_interest"
   ]
  },
  {
   "cell_type": "code",
   "execution_count": 46,
   "metadata": {},
   "outputs": [],
   "source": [
    "def get_avg_volume(ticker, start_time):\n",
    "    contract = Stock(ticker, \"SMART\", \"USD\")\n",
    "\n",
    "    bar_data = ib.reqHistoricalData(\n",
    "        contract,\n",
    "        endDateTime=start_time.strftime(\"%Y%m%d %H:%M:%S\"),\n",
    "        durationStr=\"10 D\",\n",
    "        barSizeSetting=\"1 day\",\n",
    "        whatToShow=\"TRADES\",\n",
    "        useRTH=False,\n",
    "    )\n",
    "    \n",
    "    if not bar_data:\n",
    "        return 0\n",
    "    \n",
    "    bar_data = util.df(bar_data)\n",
    "    return int(bar_data[\"volume\"].mean())"
   ]
  },
  {
   "cell_type": "code",
   "execution_count": 47,
   "metadata": {},
   "outputs": [],
   "source": [
    "def get_ibb_trend(start_time):\n",
    "    # Calculate the start of the week\n",
    "\n",
    "    contract = Stock(\"IBB\", \"SMART\", \"USD\")\n",
    "    bar_data = ib.reqHistoricalData(\n",
    "        contract,\n",
    "        endDateTime=start_time.strftime(\"%Y%m%d %H:%M:%S\"),\n",
    "        durationStr=\"10 D\",\n",
    "        barSizeSetting=\"1 day\",\n",
    "        whatToShow=\"TRADES\",\n",
    "        useRTH=False,\n",
    "    )\n",
    "    bar_data = util.df(bar_data)\n",
    "\n",
    "    if bar_data.empty:\n",
    "        return None  # No data available\n",
    "\n",
    "    # Calculate the trend\n",
    "    first_price = bar_data.iloc[0][\"close\"]\n",
    "    last_price = bar_data.iloc[-1][\"close\"]\n",
    "\n",
    "    # Return 1 if trend is positive, 0 otherwise\n",
    "    return 1 if last_price > first_price else 0"
   ]
  },
  {
   "cell_type": "code",
   "execution_count": 48,
   "metadata": {},
   "outputs": [],
   "source": [
    "def get_times(published_time):\n",
    "    tzinfo = published_time.tzinfo\n",
    "    # Define market times in EST\n",
    "    premarket_start = time(0, 0, tzinfo=tzinfo)\n",
    "    premarket_end = time(9, 30, tzinfo=tzinfo)\n",
    "    market_start = time(9, 30, tzinfo=tzinfo)\n",
    "    market_end = time(16, 0, tzinfo=tzinfo)\n",
    "    after_hours_start = time(16, 0, tzinfo=tzinfo)\n",
    "    after_hours_end = time(23, 59, 59, tzinfo=tzinfo)\n",
    "\n",
    "    # Get the date component of the published_time\n",
    "    published_date = published_time.date()\n",
    "    prev_date = published_time - timedelta(days=1)\n",
    "    next_date = published_time + timedelta(days=1)\n",
    "\n",
    "    time_tz = published_time.time().replace(tzinfo=published_time.tzinfo)\n",
    "\n",
    "    if premarket_start < time_tz < premarket_end:\n",
    "        start_time = pd.to_datetime(datetime.combine(prev_date, market_end))\n",
    "        end_time = pd.to_datetime(datetime.combine(published_time, market_start))\n",
    "    elif market_start <= time_tz < market_end:\n",
    "        start_time = published_time\n",
    "        end_time = published_time\n",
    "    elif after_hours_start <= time_tz < after_hours_end:\n",
    "        start_time = pd.to_datetime(datetime.combine(published_time, market_end))\n",
    "        end_time = pd.to_datetime(datetime.combine(next_date, market_start))\n",
    "    else:\n",
    "        raise ValueError(\"Invalid time period for trading hours\")\n",
    "\n",
    "    \n",
    "    return start_time, end_time"
   ]
  },
  {
   "cell_type": "code",
   "execution_count": 49,
   "metadata": {},
   "outputs": [],
   "source": [
    "def format_bars(df, target_time, ticker):\n",
    "    target_time = pd.to_datetime(target_time)\n",
    "\n",
    "    start_time, end_time = get_times(target_time)\n",
    "\n",
    "    start_time = start_time - timedelta(minutes=1)\n",
    "    end_time = end_time + timedelta(minutes=5)\n",
    "\n",
    "    print(target_time)\n",
    "    print(start_time)\n",
    "    print(end_time)\n",
    "\n",
    "    day_df = df\n",
    "    daily_volume = day_df[\"volume\"].sum()\n",
    "\n",
    "    # Get the time needed\n",
    "    df = df[(df[\"date\"] >= start_time) & (df[\"date\"] <= end_time)]\n",
    "    if df.empty:\n",
    "        return {\n",
    "            \"open\": None,\n",
    "            \"high\": None,\n",
    "            \"low\": None,\n",
    "            \"close\": None,\n",
    "            \"average\": None,\n",
    "            \"volume\": None,\n",
    "            \"trade_count\": None,\n",
    "            \"vwap\": None,\n",
    "            \"relative_volume_daily\": None,\n",
    "            \"relative_volume_5m\": None,\n",
    "            \"float_rotation\": None,\n",
    "            \"short_interest\": None,\n",
    "            \"index_trend\": None,\n",
    "            \"price_move\": None,\n",
    "            \"increased_3_percent\": None,\n",
    "        }\n",
    "\n",
    "\n",
    "    float_shares, short_interest = get_yf_data(ticker, start_time)\n",
    "    avg_daily_volume = get_avg_volume(ticker, start_time)\n",
    "    index_trend = get_ibb_trend(start_time)\n",
    "\n",
    "    first_close = df[\"close\"].iloc[0]\n",
    "    first_open = df[\"open\"].iloc[0]\n",
    "    last_close = df[\"close\"].iloc[-1]\n",
    "    max_high = df[\"high\"].max()\n",
    "    min_low = df[\"low\"].min()\n",
    "    average = df[\"average\"].mean()\n",
    "    sum_volume = df[\"volume\"].sum()\n",
    "    sum_trade_count = df[\"barCount\"].sum()\n",
    "\n",
    "    relative_volume_daily = (\n",
    "        daily_volume - avg_daily_volume\n",
    "    ) / avg_daily_volume + 0.00000000000000001\n",
    "    prev_5m_volume = day_df[\n",
    "        (day_df[\"date\"] >= target_time - pd.Timedelta(minutes=6))\n",
    "        & (day_df[\"date\"] <= start_time)\n",
    "    ][\"volume\"].mean()\n",
    "    relative_volume_5m = (\n",
    "        sum_volume - prev_5m_volume\n",
    "    ) / prev_5m_volume + 0.00000000000000001\n",
    "    float_rotation = daily_volume / float_shares\n",
    "\n",
    "    price_move = (last_close - first_close) / first_close\n",
    "\n",
    "    print(f\"price move {price_move}\")\n",
    "\n",
    "    increased_3_percent = 1 if price_move >= 0.03 else 0\n",
    "\n",
    "    pv = df[\"average\"] * df[\"volume\"]\n",
    "    cumulative_pv = sum(pv)\n",
    "    aggregated_vwap = cumulative_pv / sum_volume\n",
    "\n",
    "    return {\n",
    "        \"open\": first_open,\n",
    "        \"high\": max_high,\n",
    "        \"low\": min_low,\n",
    "        \"close\": last_close,\n",
    "        \"average\": average,\n",
    "        \"volume\": sum_volume,\n",
    "        \"trade_count\": sum_trade_count,\n",
    "        \"vwap\": aggregated_vwap,\n",
    "        \"relative_volume_daily\": relative_volume_daily,\n",
    "        \"relative_volume_5m\": relative_volume_5m,\n",
    "        \"float_rotation\": float_rotation,\n",
    "        \"short_interest\": short_interest,\n",
    "        \"index_trend\": index_trend,\n",
    "        \"price_move\": price_move,\n",
    "        \"increased_3_percent\": increased_3_percent,\n",
    "    }"
   ]
  },
  {
   "cell_type": "code",
   "execution_count": 50,
   "metadata": {},
   "outputs": [],
   "source": [
    "import math\n",
    "\n",
    "\n",
    "def add_stock_data(df):\n",
    "    print(len(df))\n",
    "    for index, row in tqdm(df.iterrows()):\n",
    "        if index < 3500 or not math.isnan(row[\"increased_3_percent\"]):\n",
    "            continue\n",
    "        ticker = row[\"ticker\"]\n",
    "\n",
    "        start_time = row[\"published_gmt\"]\n",
    "        day_df = get_day_price(ticker, start_time)\n",
    "\n",
    "        if not day_df.empty:\n",
    "            print(f\"\\n\\n{index} {ticker}\")\n",
    "            stock_info = format_bars(day_df, start_time, ticker)\n",
    "\n",
    "            # Update row\n",
    "            for col in stock_info.keys():\n",
    "                df.loc[index, col] = stock_info[col]\n",
    "\n",
    "        if index % 100 == 0:\n",
    "            df.to_csv(\"/Users/akseljoonas/Documents/predtrade/stock_bars.csv\", index=False)\n",
    "\n",
    "    return df"
   ]
  },
  {
   "cell_type": "code",
   "execution_count": null,
   "metadata": {},
   "outputs": [],
   "source": [
    "import os\n",
    "\n",
    "\n",
    "if os.path.exists(\"/Users/akseljoonas/Documents/predtrade/stock_bars.csv\"):\n",
    "    news_df = pd.read_csv(\"/Users/akseljoonas/Documents/predtrade/stock_bars.csv\")\n",
    "\n",
    "\n",
    "stock_df = add_stock_data(news_df)\n",
    "\n",
    "stock_df.dropna(subset=[\"increased_3_percent\"], axis=0, inplace=True)\n",
    "stock_df[\"topic\"] = (\n",
    "    stock_df[\"topic\"]\n",
    "    .str.lower()\n",
    "    .str.replace(\" \", \"_\")\n",
    "    .str.replace(\"/\", \"_\")\n",
    "    .str.replace(\"&\", \"\")\n",
    "    .str.replace(\"'\", \"\")\n",
    ")"
   ]
  },
  {
   "cell_type": "code",
   "execution_count": null,
   "metadata": {},
   "outputs": [],
   "source": [
    "stock_df.head()"
   ]
  },
  {
   "cell_type": "code",
   "execution_count": 53,
   "metadata": {},
   "outputs": [],
   "source": [
    "# def get_ta_indicators(df):\n",
    "#     EMA = abstract.Function(\"ema\")\n",
    "#     BBANDS = abstract.Function(\"bbands\")\n",
    "#     MACD = abstract.Function(\"macd\")\n",
    "#     RSI = abstract.Function(\"rsi\")\n",
    "\n",
    "#     macd, macdsignal, macdhist = MACD(\n",
    "#         df[\"close\"], fastperiod=12, slowperiod=26, signalperiod=9\n",
    "#     )\n",
    "#     bb_upper, bb_middle, bb_lower = BBANDS(\n",
    "#         df[\"close\"], timeperiod=5, nbdevup=2, nbdevdn=2, matype=0\n",
    "#     )\n",
    "#     real = RSI(df[\"close\"], timeperiod=14)\n",
    "\n",
    "#     ema_21 = EMA(df[\"close\"], timeperiod=21)\n",
    "#     ema_100 = EMA(df[\"close\"], timeperiod=100)\n",
    "#     ema_7 = EMA(df[\"close\"], timeperiod=7)\n",
    "\n",
    "#     exit(1)"
   ]
  },
  {
   "cell_type": "code",
   "execution_count": 54,
   "metadata": {},
   "outputs": [],
   "source": [
    "stock_df.to_csv(\"/Users/akseljoonas/Documents/predtrade/stock_bars_final.csv\", index=False)"
   ]
  },
  {
   "cell_type": "code",
   "execution_count": null,
   "metadata": {},
   "outputs": [],
   "source": []
  }
 ],
 "metadata": {
  "kernelspec": {
   "display_name": "predtrade",
   "language": "python",
   "name": "python3"
  },
  "language_info": {
   "codemirror_mode": {
    "name": "ipython",
    "version": 3
   },
   "file_extension": ".py",
   "mimetype": "text/x-python",
   "name": "python",
   "nbconvert_exporter": "python",
   "pygments_lexer": "ipython3",
   "version": "3.11.8"
  }
 },
 "nbformat": 4,
 "nbformat_minor": 2
}
