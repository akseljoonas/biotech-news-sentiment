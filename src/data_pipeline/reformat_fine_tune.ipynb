{
 "cells": [
  {
   "cell_type": "code",
   "execution_count": 5,
   "metadata": {},
   "outputs": [],
   "source": [
    "import pandas as pd"
   ]
  },
  {
   "cell_type": "markdown",
   "metadata": {},
   "source": [
    "# Binary or 3 label prediction?\n",
    "\n",
    "Choose the label correctly\n"
   ]
  },
  {
   "cell_type": "code",
   "execution_count": 6,
   "metadata": {},
   "outputs": [],
   "source": [
    "if_binary = 0"
   ]
  },
  {
   "cell_type": "markdown",
   "metadata": {},
   "source": [
    "Compile the dataset now"
   ]
  },
  {
   "cell_type": "code",
   "execution_count": 9,
   "metadata": {},
   "outputs": [],
   "source": [
    "df = pd.read_csv(\n",
    "    \"/Users/akseljoonas/Documents/news-sentiment/data/processed/news+stocks.csv\"\n",
    ")"
   ]
  },
  {
   "cell_type": "code",
   "execution_count": null,
   "metadata": {},
   "outputs": [],
   "source": [
    "df"
   ]
  },
  {
   "cell_type": "code",
   "execution_count": null,
   "metadata": {},
   "outputs": [],
   "source": [
    "df['ticker'].value_counts()\n"
   ]
  },
  {
   "cell_type": "code",
   "execution_count": null,
   "metadata": {},
   "outputs": [],
   "source": [
    "# Check how many cases have the same values in 'summary' and 'description'\n",
    "matching_cases_count = (df[\"summary\"] == df[\"description\"]).sum()\n",
    "\n",
    "# Output the result\n",
    "print(\n",
    "    f\"Number of cases where 'summary' and 'description' are the same: {matching_cases_count} of lenght {len(df)}\"\n",
    ")"
   ]
  },
  {
   "cell_type": "code",
   "execution_count": 5,
   "metadata": {},
   "outputs": [],
   "source": [
    "# 1. Merge the text in 'title', 'summary', and 'description' into a new column 'text'\n",
    "df[\"text\"] = (\n",
    "    df[\"title\"].fillna(\"\")\n",
    "    + \" \"\n",
    "    + df[\"summary\"].fillna(\"\")\n",
    ")\n"
   ]
  },
  {
   "cell_type": "code",
   "execution_count": 6,
   "metadata": {},
   "outputs": [],
   "source": [
    "# 2. Remove '<>:/\\|?*' characters from the 'text' column\n",
    "df[\"text\"] = df[\"text\"].str.replace(r\"[<>:/\\\\|?*]\", \"\", regex=True)\n"
   ]
  },
  {
   "cell_type": "code",
   "execution_count": 7,
   "metadata": {},
   "outputs": [],
   "source": [
    "df.rename(columns={\"increased_3_percent\": \"labels\"}, inplace=True)"
   ]
  },
  {
   "cell_type": "code",
   "execution_count": 8,
   "metadata": {},
   "outputs": [],
   "source": [
    "if not if_binary:\n",
    "\n",
    "    def label_price_move(row):\n",
    "        if row < -0.03:\n",
    "            return 0\n",
    "        elif row > 0.03:\n",
    "            return 2\n",
    "        else:\n",
    "            return 1\n",
    "\n",
    "\n",
    "    # Apply the labeling function to the price_move column\n",
    "    df[\"labels\"] = df[\"price_move\"].apply(label_price_move)"
   ]
  },
  {
   "cell_type": "code",
   "execution_count": 9,
   "metadata": {},
   "outputs": [],
   "source": [
    "df = df[[\"text\", 'topic' ,\"labels\"]]"
   ]
  },
  {
   "cell_type": "code",
   "execution_count": 10,
   "metadata": {},
   "outputs": [],
   "source": [
    "df.drop_duplicates(inplace=True)"
   ]
  },
  {
   "cell_type": "code",
   "execution_count": null,
   "metadata": {},
   "outputs": [],
   "source": [
    "df_relevant = df[df[\"labels\"].isin([0, 2])]\n",
    "df_irrelevant = df[df[\"labels\"].isin([1])]\n",
    "result = (\n",
    "    df_relevant.groupby(\"topic\")[\"labels\"]\n",
    "    .count()\n",
    "    .reset_index(name=\"relevant_label_count\")\n",
    ")\n",
    "result1 = (\n",
    "    df_irrelevant.groupby(\"topic\")[\"labels\"]\n",
    "    .count()\n",
    "    .reset_index(name=\"irrelevant_label_count\")\n",
    ")\n",
    "result = pd.merge(result, result1, on='topic', how=\"outer\")\n",
    "\n",
    "result_sorted = result.sort_values(by=\"relevant_label_count\", ascending=False)\n",
    "result_sorted"
   ]
  },
  {
   "cell_type": "code",
   "execution_count": 76,
   "metadata": {},
   "outputs": [],
   "source": [
    "min_label_count = 5\n",
    "\n",
    "excluded_topics = [\n",
    "    \"calendar_of_events\",\n",
    "    \"conference_calls__webcasts\",\n",
    "    \"directors_and_officers\",\n",
    "    \"company_announcements\",\n",
    "    \"european_regulatory_news\",\n",
    "]\n",
    "\n",
    "\n",
    "# Filter topics with relevant_label_count >= 7\n",
    "filtered_topics = result_sorted[\n",
    "    result_sorted[\"relevant_label_count\"] >= min_label_count\n",
    "][\"topic\"].tolist()\n",
    "\n",
    "# Remove excluded topics from the filtered topics\n",
    "filtered_topics = [topic for topic in filtered_topics if topic not in excluded_topics]\n",
    "\n",
    "# Now filter the original DataFrame based on the remaining filtered topics\n",
    "df = df[df[\"topic\"].isin(filtered_topics)]\n",
    "\n",
    "# df.drop('topic',inplace=True, axis=1)\n",
    "# Optionally, reset the index for cleanliness\n",
    "df.reset_index(drop=True, inplace=True)"
   ]
  },
  {
   "cell_type": "code",
   "execution_count": null,
   "metadata": {},
   "outputs": [],
   "source": [
    "df['labels'].value_counts()"
   ]
  },
  {
   "cell_type": "code",
   "execution_count": 12,
   "metadata": {},
   "outputs": [],
   "source": [
    "df.drop('topic',inplace=True, axis=1)"
   ]
  },
  {
   "cell_type": "code",
   "execution_count": 13,
   "metadata": {},
   "outputs": [],
   "source": [
    "# 4. Save the modified DataFrame to a new CSV file\n",
    "df.to_csv(\n",
    "    \"./datasets_big/dataset_finetuning_3_labels.csv\",\n",
    "    index=False,\n",
    ")"
   ]
  },
  {
   "cell_type": "code",
   "execution_count": null,
   "metadata": {},
   "outputs": [],
   "source": []
  }
 ],
 "metadata": {
  "kernelspec": {
   "display_name": "predtrade",
   "language": "python",
   "name": "python3"
  },
  "language_info": {
   "codemirror_mode": {
    "name": "ipython",
    "version": 3
   },
   "file_extension": ".py",
   "mimetype": "text/x-python",
   "name": "python",
   "nbconvert_exporter": "python",
   "pygments_lexer": "ipython3",
   "version": "3.11.8"
  }
 },
 "nbformat": 4,
 "nbformat_minor": 2
}
